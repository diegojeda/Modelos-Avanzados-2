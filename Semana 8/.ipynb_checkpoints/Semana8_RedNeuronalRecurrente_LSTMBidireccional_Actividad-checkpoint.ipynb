{
 "cells": [
  {
   "cell_type": "markdown",
   "metadata": {},
   "source": [
    "## MIIA-4203 MODELOS AVANZADOS PARA ANÁLISIS DE DATOS II\n",
    "\n",
    "\n",
    "# Red neuronal recurrente: LSTM bidireccional\n",
    "\n",
    "## Actividad 8\n",
    "\n",
    "### Profesor: Camilo Franco (c.franco31@uniandes.edu.co)\n",
    "\n",
    "## Actividad en grupos\n",
    "### Nombres:\n",
    "\n",
    "- Nelson Aldana\n",
    "- Diego Ojeda\n",
    "- Daniel Rojas\n",
    "\n",
    "\n",
    "**Instrucciones:** Por favor escriba los nombres de los integrantes de su grupo. Esta actividad debe ser entregada a más tardar dentro de 8 días, con la respuesta para los ejercicios y preguntas en cada numeral.\n",
    "\n",
    "En este cuaderno vamos a implementar una red recurrente bi-direccional para la prediccion del sentimiento asociado con un comentario linguistico. Los comentarios con los que vamos a trabajar corresponden con opiniones sobre peliculas (https://ai.stanford.edu/~amaas/data/sentiment/)\n",
    "\n",
    "Finalmente tenemos un ejercicio donde podremos explorar distintos modelos de redes recurrentes (https://en.wikipedia.org/wiki/Recurrent_neural_network)\n",
    "\n",
    "Primero importemos las bibliotecas y paquetes que vamos a utilizar:"
   ]
  },
  {
   "cell_type": "code",
   "execution_count": 1,
   "metadata": {},
   "outputs": [],
   "source": [
    "import numpy as np\n",
    "import keras\n",
    "from keras import layers\n",
    "from keras.models import load_model, Sequential\n",
    "\n",
    "import h5py\n",
    "import matplotlib.pyplot as plt\n",
    "from prettytable import PrettyTable\n",
    "\n",
    "from sklearn.model_selection import train_test_split\n",
    "from sklearn.metrics import confusion_matrix "
   ]
  },
  {
   "cell_type": "markdown",
   "metadata": {},
   "source": [
    "También definimos algunos parámetros para nuestra implementación, uno donde definimos el número máximo de términos a considerar (de todo nuestro vocabulario) y otro donde definimos la longitud máxima para un comentario:"
   ]
  },
  {
   "cell_type": "code",
   "execution_count": 2,
   "metadata": {},
   "outputs": [],
   "source": [
    "max_features = 20000  # Considera las 20000 palabras más populares\n",
    "maxlen = 200  # Considera las primeras 200 palabras de cada comentario"
   ]
  },
  {
   "cell_type": "markdown",
   "metadata": {},
   "source": [
    "Importemos los datos:"
   ]
  },
  {
   "cell_type": "code",
   "execution_count": 3,
   "metadata": {},
   "outputs": [],
   "source": [
    "(x_train, y_train), (x_val, y_val) = keras.datasets.imdb.load_data(\n",
    "    num_words=max_features)"
   ]
  },
  {
   "cell_type": "code",
   "execution_count": 4,
   "metadata": {},
   "outputs": [
    {
     "data": {
      "text/plain": [
       "(25000,)"
      ]
     },
     "execution_count": 4,
     "metadata": {},
     "output_type": "execute_result"
    }
   ],
   "source": [
    "np.shape(x_train)"
   ]
  },
  {
   "cell_type": "code",
   "execution_count": 5,
   "metadata": {},
   "outputs": [
    {
     "data": {
      "text/plain": [
       "(25000,)"
      ]
     },
     "execution_count": 5,
     "metadata": {},
     "output_type": "execute_result"
    }
   ],
   "source": [
    "np.shape(y_train)"
   ]
  },
  {
   "cell_type": "code",
   "execution_count": 6,
   "metadata": {},
   "outputs": [
    {
     "name": "stdout",
     "output_type": "stream",
     "text": [
      "25000 secuencias de entrenamiento\n",
      "25000 secuencias de validación\n"
     ]
    }
   ],
   "source": [
    "(x_train, y_train), (x_val, y_val) = keras.datasets.imdb.load_data(\n",
    "    num_words=max_features)\n",
    "\n",
    "print(len(x_train), \"secuencias de entrenamiento\")\n",
    "print(len(x_val), \"secuencias de validación\")\n",
    "\n",
    "x_train = keras.preprocessing.sequence.pad_sequences(x_train, maxlen=maxlen)\n",
    "x_val = keras.preprocessing.sequence.pad_sequences(x_val, maxlen=maxlen)"
   ]
  },
  {
   "cell_type": "markdown",
   "metadata": {},
   "source": [
    "**Salida esperada:**\n",
    "\n",
    "25000 secuencias de entrenamiento\n",
    "\n",
    "25000 secuencias de validación"
   ]
  },
  {
   "cell_type": "markdown",
   "metadata": {},
   "source": [
    "Veamos en qué consiste la primera observación de entrenamiento:"
   ]
  },
  {
   "cell_type": "code",
   "execution_count": 7,
   "metadata": {},
   "outputs": [
    {
     "data": {
      "text/plain": [
       "array([    5,    25,   100,    43,   838,   112,    50,   670,     2,\n",
       "           9,    35,   480,   284,     5,   150,     4,   172,   112,\n",
       "         167,     2,   336,   385,    39,     4,   172,  4536,  1111,\n",
       "          17,   546,    38,    13,   447,     4,   192,    50,    16,\n",
       "           6,   147,  2025,    19,    14,    22,     4,  1920,  4613,\n",
       "         469,     4,    22,    71,    87,    12,    16,    43,   530,\n",
       "          38,    76,    15,    13,  1247,     4,    22,    17,   515,\n",
       "          17,    12,    16,   626,    18, 19193,     5,    62,   386,\n",
       "          12,     8,   316,     8,   106,     5,     4,  2223,  5244,\n",
       "          16,   480,    66,  3785,    33,     4,   130,    12,    16,\n",
       "          38,   619,     5,    25,   124,    51,    36,   135,    48,\n",
       "          25,  1415,    33,     6,    22,    12,   215,    28,    77,\n",
       "          52,     5,    14,   407,    16,    82, 10311,     8,     4,\n",
       "         107,   117,  5952,    15,   256,     4,     2,     7,  3766,\n",
       "           5,   723,    36,    71,    43,   530,   476,    26,   400,\n",
       "         317,    46,     7,     4, 12118,  1029,    13,   104,    88,\n",
       "           4,   381,    15,   297,    98,    32,  2071,    56,    26,\n",
       "         141,     6,   194,  7486,    18,     4,   226,    22,    21,\n",
       "         134,   476,    26,   480,     5,   144,    30,  5535,    18,\n",
       "          51,    36,    28,   224,    92,    25,   104,     4,   226,\n",
       "          65,    16,    38,  1334,    88,    12,    16,   283,     5,\n",
       "          16,  4472,   113,   103,    32,    15,    16,  5345,    19,\n",
       "         178,    32])"
      ]
     },
     "execution_count": 7,
     "metadata": {},
     "output_type": "execute_result"
    }
   ],
   "source": [
    "x_train[0]"
   ]
  },
  {
   "cell_type": "markdown",
   "metadata": {},
   "source": [
    "Podemos reconstruir cada comentario de acuerdo con el índice de cada término:"
   ]
  },
  {
   "cell_type": "code",
   "execution_count": 8,
   "metadata": {},
   "outputs": [],
   "source": [
    "L = keras.datasets.imdb.get_word_index(path=\"imdb_word_index.json\")\n",
    "\n",
    "L = {k:(v+3) for k,v in L.items()}\n",
    "L[\"<PAD>\"] = 0\n",
    "L[\"<START>\"] = 1\n",
    "L[\"<UNK>\"] = 2\n",
    "L[\"<UNUSED>\"] = 3\n",
    "\n",
    "L_palabra = {value:key for key,value in L.items()}"
   ]
  },
  {
   "cell_type": "markdown",
   "metadata": {},
   "source": [
    "Veamos el primer comentario de entrenamiento que es positivo:"
   ]
  },
  {
   "cell_type": "code",
   "execution_count": 9,
   "metadata": {},
   "outputs": [
    {
     "name": "stdout",
     "output_type": "stream",
     "text": [
      "El comentario:  and you could just imagine being there robert <UNK> is an amazing actor and now the same being director <UNK> father came from the same scottish island as myself so i loved the fact there was a real connection with this film the witty remarks throughout the film were great it was just brilliant so much that i bought the film as soon as it was released for retail and would recommend it to everyone to watch and the fly fishing was amazing really cried at the end it was so sad and you know what they say if you cry at a film it must have been good and this definitely was also congratulations to the two little boy's that played the <UNK> of norman and paul they were just brilliant children are often left out of the praising list i think because the stars that play them all grown up are such a big profile for the whole film but these children are amazing and should be praised for what they have done don't you think the whole story was so lovely because it was true and was someone's life after all that was shared with us all\n",
      "Tiene un sentimiento asociado:  1\n"
     ]
    }
   ],
   "source": [
    "print(\"El comentario: \", ' '.join(L_palabra[id] for id in x_train[0] ))\n",
    "print(\"Tiene un sentimiento asociado: \", y_train[0])"
   ]
  },
  {
   "cell_type": "markdown",
   "metadata": {},
   "source": [
    "O un comentario negativo:"
   ]
  },
  {
   "cell_type": "code",
   "execution_count": 10,
   "metadata": {},
   "outputs": [
    {
     "name": "stdout",
     "output_type": "stream",
     "text": [
      "El comentario:  <PAD> <PAD> <PAD> <PAD> <PAD> <PAD> <PAD> <PAD> <PAD> <PAD> <PAD> <START> big hair big boobs bad music and a giant safety pin these are the words to best describe this terrible movie i love cheesy horror movies and i've seen hundreds but this had got to be on of the worst ever made the plot is paper thin and ridiculous the acting is an abomination the script is completely laughable the best is the end showdown with the cop and how he worked out who the killer is it's just so damn terribly written the clothes are sickening and funny in equal measures the hair is big lots of boobs bounce men wear those cut tee shirts that show off their <UNK> sickening that men actually wore them and the music is just <UNK> trash that plays over and over again in almost every scene there is trashy music boobs and <UNK> taking away bodies and the gym still doesn't close for <UNK> all joking aside this is a truly bad film whose only charm is to look back on the disaster that was the 80's and have a good old laugh at how bad everything was back then\n",
      "Tiene un sentimiento asociado:  0\n"
     ]
    }
   ],
   "source": [
    "print(\"El comentario: \", ' '.join(L_palabra[id] for id in x_train[1] ))\n",
    "print(\"Tiene un sentimiento asociado: \", y_train[1])"
   ]
  },
  {
   "cell_type": "markdown",
   "metadata": {},
   "source": [
    "## 1. Red recurrente bi-direccional"
   ]
  },
  {
   "cell_type": "markdown",
   "metadata": {},
   "source": [
    "A continuación definimos la arquitectura de la red:"
   ]
  },
  {
   "cell_type": "code",
   "execution_count": 11,
   "metadata": {},
   "outputs": [
    {
     "data": {
      "text/plain": [
       "20000"
      ]
     },
     "execution_count": 11,
     "metadata": {},
     "output_type": "execute_result"
    }
   ],
   "source": [
    "max_features"
   ]
  },
  {
   "cell_type": "code",
   "execution_count": 12,
   "metadata": {},
   "outputs": [
    {
     "name": "stdout",
     "output_type": "stream",
     "text": [
      "Model: \"functional_1\"\n",
      "_________________________________________________________________\n",
      "Layer (type)                 Output Shape              Param #   \n",
      "=================================================================\n",
      "input_1 (InputLayer)         [(None, None)]            0         \n",
      "_________________________________________________________________\n",
      "embedding (Embedding)        (None, None, 128)         2560000   \n",
      "_________________________________________________________________\n",
      "bidirectional (Bidirectional (None, None, 128)         98816     \n",
      "_________________________________________________________________\n",
      "bidirectional_1 (Bidirection (None, 128)               98816     \n",
      "_________________________________________________________________\n",
      "dense (Dense)                (None, 1)                 129       \n",
      "=================================================================\n",
      "Total params: 2,757,761\n",
      "Trainable params: 2,757,761\n",
      "Non-trainable params: 0\n",
      "_________________________________________________________________\n"
     ]
    }
   ],
   "source": [
    "# Input con secuencias de enteros con longitud variable\n",
    "inputs = keras.Input(shape=(None,), dtype=\"int32\")\n",
    "\n",
    "# Conseguimos la representación vectorial (embedding) de cada entero en un vector 128-dimensional\n",
    "x = layers.Embedding(max_features, 128)(inputs)\n",
    "\n",
    "# Añadimos 2 unidades LSTM bidireccionales\n",
    "x = layers.Bidirectional(layers.LSTM(64, return_sequences=True))(x)\n",
    "x = layers.Bidirectional(layers.LSTM(64))(x)\n",
    "\n",
    "# Añadimos un clasificador binario en la salida\n",
    "outputs = layers.Dense(1, activation=\"sigmoid\")(x)\n",
    "\n",
    "# Gaurdamos la arquitectura del modelo\n",
    "model1 = keras.Model(inputs, outputs)\n",
    "model1.summary()"
   ]
  },
  {
   "cell_type": "code",
   "execution_count": 13,
   "metadata": {},
   "outputs": [
    {
     "name": "stdout",
     "output_type": "stream",
     "text": [
      "Epoch 1/3\n",
      "391/391 [==============================] - 117s 300ms/step - loss: 0.4591 - accuracy: 0.7782 - val_loss: 0.3629 - val_accuracy: 0.8470\n",
      "Epoch 2/3\n",
      "391/391 [==============================] - 114s 293ms/step - loss: 0.2356 - accuracy: 0.9126 - val_loss: 0.3891 - val_accuracy: 0.8454\n",
      "Epoch 3/3\n",
      "391/391 [==============================] - 116s 297ms/step - loss: 0.1356 - accuracy: 0.9530 - val_loss: 0.4471 - val_accuracy: 0.8428\n",
      "Desempeño (exactitud): accu_v1=0.8428000211715698 , accu_v2=0.8349999785423279\n",
      "Epoch 1/3\n",
      "391/391 [==============================] - 111s 284ms/step - loss: 0.2330 - accuracy: 0.9149 - val_loss: 0.2192 - val_accuracy: 0.9193\n",
      "Epoch 2/3\n",
      "391/391 [==============================] - 114s 291ms/step - loss: 0.1140 - accuracy: 0.9629 - val_loss: 0.2909 - val_accuracy: 0.9027\n",
      "Epoch 3/3\n",
      "391/391 [==============================] - 113s 289ms/step - loss: 0.0950 - accuracy: 0.9696 - val_loss: 0.3469 - val_accuracy: 0.8964\n",
      "Desempeño (exactitud): accu_v1=0.896399974822998 , accu_v2=0.840399980545044\n",
      "Epoch 1/3\n",
      "391/391 [==============================] - 124s 317ms/step - loss: 0.1783 - accuracy: 0.9376 - val_loss: 0.1809 - val_accuracy: 0.9397\n",
      "Epoch 2/3\n",
      "391/391 [==============================] - 119s 303ms/step - loss: 0.0810 - accuracy: 0.9758 - val_loss: 0.1994 - val_accuracy: 0.9282\n",
      "Epoch 3/3\n",
      "391/391 [==============================] - 122s 311ms/step - loss: 0.0454 - accuracy: 0.9862 - val_loss: 0.2153 - val_accuracy: 0.9322\n",
      "Desempeño (exactitud): accu_v1=0.9321600198745728 , accu_v2=0.8349199891090393\n",
      "+--------+--------+--------+\n",
      "| Exac_E | Exac_V | Exac_P |\n",
      "+--------+--------+--------+\n",
      "| 0.9819 | 0.8428 | 0.835  |\n",
      "| 0.9896 | 0.8964 | 0.8404 |\n",
      "| 0.9941 | 0.9322 | 0.8349 |\n",
      "+--------+--------+--------+\n"
     ]
    }
   ],
   "source": [
    "# Inicializamos la tabla donde guardamos los resultados\n",
    "x = PrettyTable([\"Exac_E\", \"Exac_V\", \"Exac_P\"])\n",
    "\n",
    "# Definimos el número máximo de iteraciones (épocas de la red)\n",
    "epocas=3\n",
    "\n",
    "# Definimos los parametros del Adam\n",
    "adam = keras.optimizers.Adam(lr=0.001, beta_1=0.9, beta_2=0.999)\n",
    "\n",
    "# Inicializamos el error \n",
    "err_p = 999\n",
    "\n",
    "for i in range(0,3,1):\n",
    "    r = i^3\n",
    "    CE_x, CV_x, CE_y, CV_y = train_test_split(x_train, y_train, test_size = 0.5, random_state = r)\n",
    "          \n",
    "    # Definimos el método de optimización con respecto a su funcion de perdida (además guardamos la exactitud para cada iteracion)\n",
    "    model = keras.Model(inputs, outputs)\n",
    "    model.compile(loss='binary_crossentropy', optimizer=adam, metrics=['accuracy'])\n",
    "    \n",
    "    # Ajustamos el modelo\n",
    "    history=model.fit(x=CE_x, y=CE_y, epochs=epocas, validation_data=(CV_x, CV_y), verbose=1, shuffle=False)\n",
    "      \n",
    "    # Calculamos las metricas\n",
    "    train_metrics = model.evaluate(x=CE_x, y=CE_y, verbose=0)\n",
    "    valid_metrics = model.evaluate(x=CV_x, y=CV_y, verbose=0)\n",
    "    test_metrics = model.evaluate(x=x_val, y=y_val, verbose=0)\n",
    "    \n",
    "    # Guardamos las métricas de desempeño\n",
    "    accu_e = train_metrics[1]\n",
    "    loss_e = train_metrics[0]\n",
    "    accu_v = valid_metrics[1]\n",
    "    loss_v = valid_metrics[0]\n",
    "    accu_p = test_metrics[1]\n",
    "    loss_p = test_metrics[0]\n",
    "    \n",
    "    if (loss_p < err_p):\n",
    "        pathr =('BRNN_part='+str(r)+'.h5')\n",
    "        model.save(pathr) \n",
    "        err_p = loss_p\n",
    "    \n",
    "    # Imprimimos el desempeño para cada repetición\n",
    "    print('Desempeño (exactitud): accu_v1='+str(accu_v) +' , accu_v2='+str(accu_p))\n",
    "    \n",
    "    x.add_row([np.round(accu_e,4), np.round(accu_v,4), np.round(accu_p,4)])\n",
    "\n",
    "print(x)"
   ]
  },
  {
   "cell_type": "code",
   "execution_count": 14,
   "metadata": {},
   "outputs": [
    {
     "data": {
      "image/png": "[encoded data removed]",
      "text/plain": [
       "<Figure size 432x288 with 1 Axes>"
      ]
     },
     "metadata": {
      "needs_background": "light"
     },
     "output_type": "display_data"
    },
    {
     "data": {
      "image/png": "[encoded data removed]",
      "text/plain": [
       "<Figure size 432x288 with 1 Axes>"
      ]
     },
     "metadata": {
      "needs_background": "light"
     },
     "output_type": "display_data"
    }
   ],
   "source": [
    "plt.figure(1)\n",
    "plt.plot(history.history['accuracy'])  \n",
    "plt.plot(history.history['val_accuracy'])  \n",
    "plt.title('Exactitud')  \n",
    "plt.ylabel('Acc')  \n",
    "plt.xlabel('Epoca')  \n",
    "plt.legend(['Entreno', 'Validacion'], loc='lower right')\n",
    "plt.show()\n",
    "\n",
    "plt.figure(1) \n",
    "plt.plot(history.history['loss'])  \n",
    "plt.plot(history.history['val_loss'])  \n",
    "plt.title('Pérdida')  \n",
    "plt.ylabel('Pérdida')  \n",
    "plt.xlabel('Epoca')  \n",
    "plt.legend(['Entreno', 'Validación'], loc='upper right')  \n",
    "plt.show()"
   ]
  },
  {
   "cell_type": "markdown",
   "metadata": {},
   "source": [
    "Recuperamos el mejor modelo:"
   ]
  },
  {
   "cell_type": "code",
   "execution_count": 15,
   "metadata": {},
   "outputs": [
    {
     "name": "stdout",
     "output_type": "stream",
     "text": [
      "Model: \"functional_3\"\n",
      "_________________________________________________________________\n",
      "Layer (type)                 Output Shape              Param #   \n",
      "=================================================================\n",
      "input_1 (InputLayer)         [(None, None)]            0         \n",
      "_________________________________________________________________\n",
      "embedding (Embedding)        (None, None, 128)         2560000   \n",
      "_________________________________________________________________\n",
      "bidirectional (Bidirectional (None, None, 128)         98816     \n",
      "_________________________________________________________________\n",
      "bidirectional_1 (Bidirection (None, 128)               98816     \n",
      "_________________________________________________________________\n",
      "dense (Dense)                (None, 1)                 129       \n",
      "=================================================================\n",
      "Total params: 2,757,761\n",
      "Trainable params: 2,757,761\n",
      "Non-trainable params: 0\n",
      "_________________________________________________________________\n"
     ]
    }
   ],
   "source": [
    "# B-RNN LSTM\n",
    "model_brnn = load_model('BRNN_part=3.h5')\n",
    "\n",
    "model_brnn.summary()"
   ]
  },
  {
   "cell_type": "markdown",
   "metadata": {},
   "source": [
    "Replicamos los resultados obtenidos anteriormente:"
   ]
  },
  {
   "cell_type": "code",
   "execution_count": 16,
   "metadata": {},
   "outputs": [
    {
     "name": "stdout",
     "output_type": "stream",
     "text": [
      "[[11221  1279]\n",
      " [  912 11588]]\n",
      "Exactitud:  0.9123600125312805\n"
     ]
    }
   ],
   "source": [
    "Y_predt = model_brnn.predict(x_train)\n",
    "Y_predst = (Y_predt > 0.5)\n",
    "\n",
    "print(confusion_matrix(y_train, Y_predst))\n",
    "print(\"Exactitud: \", model_brnn.evaluate(x=x_train, y=y_train, verbose=0)[1])"
   ]
  },
  {
   "cell_type": "markdown",
   "metadata": {},
   "source": [
    "Reportamos el desempeño del modelo con los datos de prueba (fuera de la muestra):"
   ]
  },
  {
   "cell_type": "code",
   "execution_count": 17,
   "metadata": {},
   "outputs": [
    {
     "name": "stdout",
     "output_type": "stream",
     "text": [
      "[[10163  2337]\n",
      " [ 1788 10712]]\n",
      "Exactitud:  0.8349999785423279\n"
     ]
    }
   ],
   "source": [
    "Y_predv = model_brnn.predict(x_val)\n",
    "Y_predsv = (Y_predv > 0.5)\n",
    "\n",
    "print(confusion_matrix(y_val, Y_predsv))\n",
    "print(\"Exactitud: \", model_brnn.evaluate(x=x_val, y=y_val, verbose=0)[1])"
   ]
  },
  {
   "cell_type": "markdown",
   "metadata": {},
   "source": [
    "## Ejercicio 1.1\n",
    "\n",
    "Desarrolle un modelo de red neuronal recurrente uni-direccional para comparar los resultados obtenidos con esta red recurrente bi-direccional.\n",
    "\n",
    "Puede explorar una red recurrente simple, LSTM ó GRU, o cualquier otro tipo de red que desee explorar que contenga al menos una capa de tipo recurrente (ver por ejemplo: https://keras.io/api/layers/#recurrent-layers).\n",
    "\n",
    "Compare los resultados sobre los datos de prueba y analice el desempeño de su modelo."
   ]
  },
  {
   "cell_type": "markdown",
   "metadata": {},
   "source": [
    "### 1.1.1 Red Uni-Direccional - LSTM"
   ]
  },
  {
   "cell_type": "code",
   "execution_count": 18,
   "metadata": {},
   "outputs": [
    {
     "name": "stdout",
     "output_type": "stream",
     "text": [
      "Model: \"functional_9\"\n",
      "_________________________________________________________________\n",
      "Layer (type)                 Output Shape              Param #   \n",
      "=================================================================\n",
      "input_2 (InputLayer)         [(None, None)]            0         \n",
      "_________________________________________________________________\n",
      "embedding_1 (Embedding)      (None, None, 128)         2560000   \n",
      "_________________________________________________________________\n",
      "lstm_2 (LSTM)                (None, None, 64)          49408     \n",
      "_________________________________________________________________\n",
      "lstm_3 (LSTM)                (None, 64)                33024     \n",
      "_________________________________________________________________\n",
      "dense_1 (Dense)              (None, 1)                 65        \n",
      "=================================================================\n",
      "Total params: 2,642,497\n",
      "Trainable params: 2,642,497\n",
      "Non-trainable params: 0\n",
      "_________________________________________________________________\n"
     ]
    }
   ],
   "source": [
    "# Input con secuencias de enteros con longitud variable\n",
    "inputs = keras.Input(shape=(None,), dtype=\"int32\")\n",
    "\n",
    "# Conseguimos la representación vectorial (embedding) de cada entero en un vector 128-dimensional\n",
    "x = layers.Embedding(max_features, 128)(inputs)\n",
    "\n",
    "# Añadimos 2 unidades LSTM bidireccionales\n",
    "x = layers.LSTM(64, return_sequences=True)(x)\n",
    "x = layers.LSTM(64)(x)\n",
    "\n",
    "# Añadimos un clasificador binario en la salida\n",
    "outputs = layers.Dense(1, activation=\"sigmoid\")(x)\n",
    "\n",
    "# Gaurdamos la arquitectura del modelo\n",
    "model_LSTM_uni = keras.Model(inputs, outputs)\n",
    "model_LSTM_uni.summary()"
   ]
  },
  {
   "cell_type": "code",
   "execution_count": 19,
   "metadata": {},
   "outputs": [
    {
     "name": "stdout",
     "output_type": "stream",
     "text": [
      "Epoch 1/3\n",
      "391/391 [==============================] - 94s 241ms/step - loss: 0.4794 - accuracy: 0.7699 - val_loss: 0.3772 - val_accuracy: 0.8418\n",
      "Epoch 2/3\n",
      "391/391 [==============================] - 90s 231ms/step - loss: 0.2380 - accuracy: 0.9122 - val_loss: 0.3625 - val_accuracy: 0.8502\n",
      "Epoch 3/3\n",
      "391/391 [==============================] - 94s 241ms/step - loss: 0.1329 - accuracy: 0.9567 - val_loss: 0.4618 - val_accuracy: 0.8489\n",
      "Desempeño (exactitud): accu_v1=0.8488799929618835 , accu_v2=0.8333200216293335\n",
      "Epoch 1/3\n",
      "391/391 [==============================] - 96s 245ms/step - loss: 0.2455 - accuracy: 0.9099 - val_loss: 0.2301 - val_accuracy: 0.9137\n",
      "Epoch 2/3\n",
      "391/391 [==============================] - 92s 237ms/step - loss: 0.1204 - accuracy: 0.9600 - val_loss: 0.2940 - val_accuracy: 0.9056\n",
      "Epoch 3/3\n",
      "391/391 [==============================] - 93s 238ms/step - loss: 0.1250 - accuracy: 0.9552 - val_loss: 0.4136 - val_accuracy: 0.8924\n",
      "Desempeño (exactitud): accu_v1=0.8924000263214111 , accu_v2=0.838919997215271\n",
      "Epoch 1/3\n",
      "391/391 [==============================] - 93s 238ms/step - loss: 0.1934 - accuracy: 0.9333 - val_loss: 0.1910 - val_accuracy: 0.9306\n",
      "Epoch 2/3\n",
      "391/391 [==============================] - 85s 217ms/step - loss: 0.0890 - accuracy: 0.9734 - val_loss: 0.1897 - val_accuracy: 0.9353\n",
      "Epoch 3/3\n",
      "391/391 [==============================] - 85s 216ms/step - loss: 0.0572 - accuracy: 0.9818 - val_loss: 0.2220 - val_accuracy: 0.9342\n",
      "Desempeño (exactitud): accu_v1=0.9342399835586548 , accu_v2=0.8455600142478943\n",
      "+--------+--------+--------+\n",
      "| Exac_E | Exac_V | Exac_P |\n",
      "+--------+--------+--------+\n",
      "| 0.9778 | 0.8489 | 0.8333 |\n",
      "| 0.9808 | 0.8924 | 0.8389 |\n",
      "| 0.9944 | 0.9342 | 0.8456 |\n",
      "+--------+--------+--------+\n"
     ]
    }
   ],
   "source": [
    "# Inicializamos la tabla donde guardamos los resultados\n",
    "x = PrettyTable([\"Exac_E\", \"Exac_V\", \"Exac_P\"])\n",
    "\n",
    "# Definimos el número máximo de iteraciones (épocas de la red)\n",
    "epocas=3\n",
    "\n",
    "# Definimos los parametros del Adam\n",
    "adam = keras.optimizers.Adam(lr=0.001, beta_1=0.9, beta_2=0.999)\n",
    "\n",
    "# Inicializamos el error \n",
    "err_p = 999\n",
    "\n",
    "for i in range(0,3,1):\n",
    "    r = i^3\n",
    "    CE_x, CV_x, CE_y, CV_y = train_test_split(x_train, y_train, test_size = 0.5, random_state = r)\n",
    "          \n",
    "    # Definimos el método de optimización con respecto a su funcion de perdida (además guardamos la exactitud para cada iteracion)\n",
    "    model_LSTM_uni = keras.Model(inputs, outputs)\n",
    "    model_LSTM_uni.compile(loss='binary_crossentropy', optimizer=adam, metrics=['accuracy'])\n",
    "    \n",
    "    # Ajustamos el modelo\n",
    "    history=model_LSTM_uni.fit(x=CE_x, y=CE_y, epochs=epocas, validation_data=(CV_x, CV_y), verbose=1, shuffle=False)\n",
    "      \n",
    "    # Calculamos las metricas\n",
    "    train_metrics = model_LSTM_uni.evaluate(x=CE_x, y=CE_y, verbose=0)\n",
    "    valid_metrics = model_LSTM_uni.evaluate(x=CV_x, y=CV_y, verbose=0)\n",
    "    test_metrics = model_LSTM_uni.evaluate(x=x_val, y=y_val, verbose=0)\n",
    "    \n",
    "    # Guardamos las métricas de desempeño\n",
    "    accu_e = train_metrics[1]\n",
    "    loss_e = train_metrics[0]\n",
    "    accu_v = valid_metrics[1]\n",
    "    loss_v = valid_metrics[0]\n",
    "    accu_p = test_metrics[1]\n",
    "    loss_p = test_metrics[0]\n",
    "    \n",
    "    if (loss_p < err_p):\n",
    "        pathr =('U_LSTM_part='+str(r)+'.h5')\n",
    "        model_LSTM_uni.save(pathr) \n",
    "        err_p = loss_p\n",
    "    \n",
    "    # Imprimimos el desempeño para cada repetición\n",
    "    print('Desempeño (exactitud): accu_v1='+str(accu_v) +' , accu_v2='+str(accu_p))\n",
    "    \n",
    "    x.add_row([np.round(accu_e,4), np.round(accu_v,4), np.round(accu_p,4)])\n",
    "\n",
    "print(x)"
   ]
  },
  {
   "cell_type": "code",
   "execution_count": 20,
   "metadata": {},
   "outputs": [
    {
     "data": {
      "image/png": "[encoded data removed]",
      "text/plain": [
       "<Figure size 432x288 with 1 Axes>"
      ]
     },
     "metadata": {
      "needs_background": "light"
     },
     "output_type": "display_data"
    },
    {
     "data": {
      "image/png": "[encoded data removed]",
      "text/plain": [
       "<Figure size 432x288 with 1 Axes>"
      ]
     },
     "metadata": {
      "needs_background": "light"
     },
     "output_type": "display_data"
    }
   ],
   "source": [
    "plt.figure(1)\n",
    "plt.plot(history.history['accuracy'])  \n",
    "plt.plot(history.history['val_accuracy'])  \n",
    "plt.title('Exactitud')  \n",
    "plt.ylabel('Acc')  \n",
    "plt.xlabel('Epoca')  \n",
    "plt.legend(['Entreno', 'Validacion'], loc='lower right')\n",
    "plt.show()\n",
    "\n",
    "plt.figure(1) \n",
    "plt.plot(history.history['loss'])  \n",
    "plt.plot(history.history['val_loss'])  \n",
    "plt.title('Pérdida')  \n",
    "plt.ylabel('Pérdida')  \n",
    "plt.xlabel('Epoca')  \n",
    "plt.legend(['Entreno', 'Validación'], loc='upper right')  \n",
    "plt.show()"
   ]
  },
  {
   "cell_type": "code",
   "execution_count": 21,
   "metadata": {},
   "outputs": [
    {
     "name": "stdout",
     "output_type": "stream",
     "text": [
      "[[12058   442]\n",
      " [  450 12050]]\n",
      "Exactitud:  0.9643200039863586\n"
     ]
    }
   ],
   "source": [
    "Y_predt = model_LSTM_uni.predict(x_train)\n",
    "Y_predst = (Y_predt > 0.5)\n",
    "\n",
    "print(confusion_matrix(y_train, Y_predst))\n",
    "print(\"Exactitud: \", model_LSTM_uni.evaluate(x=x_train, y=y_train, verbose=0)[1])"
   ]
  },
  {
   "cell_type": "code",
   "execution_count": 22,
   "metadata": {},
   "outputs": [
    {
     "name": "stdout",
     "output_type": "stream",
     "text": [
      "[[10628  1872]\n",
      " [ 1989 10511]]\n",
      "Exactitud:  0.8455600142478943\n"
     ]
    }
   ],
   "source": [
    "Y_predv = model_LSTM_uni.predict(x_val)\n",
    "Y_predsv = (Y_predv > 0.5)\n",
    "\n",
    "print(confusion_matrix(y_val, Y_predsv))\n",
    "print(\"Exactitud: \", model_LSTM_uni.evaluate(x=x_val, y=y_val, verbose=0)[1])"
   ]
  },
  {
   "cell_type": "markdown",
   "metadata": {},
   "source": [
    "**Podemos observar que un modelo Unidireccional con celdas LSTM en este caso tiene un mejor desempeño que un modelo usando celdas Bidireccionales tipo LSTM, con exactidudes de 85% contra 83% respectivamente.**"
   ]
  },
  {
   "cell_type": "markdown",
   "metadata": {},
   "source": [
    "### 1.1.2 Red Uni-Direccional - Red Simple"
   ]
  },
  {
   "cell_type": "code",
   "execution_count": 23,
   "metadata": {},
   "outputs": [
    {
     "name": "stdout",
     "output_type": "stream",
     "text": [
      "Model: \"functional_17\"\n",
      "_________________________________________________________________\n",
      "Layer (type)                 Output Shape              Param #   \n",
      "=================================================================\n",
      "input_3 (InputLayer)         [(None, None)]            0         \n",
      "_________________________________________________________________\n",
      "embedding_2 (Embedding)      (None, None, 128)         2560000   \n",
      "_________________________________________________________________\n",
      "simple_rnn (SimpleRNN)       (None, None, 64)          12352     \n",
      "_________________________________________________________________\n",
      "simple_rnn_1 (SimpleRNN)     (None, 64)                8256      \n",
      "_________________________________________________________________\n",
      "dense_2 (Dense)              (None, 1)                 65        \n",
      "=================================================================\n",
      "Total params: 2,580,673\n",
      "Trainable params: 2,580,673\n",
      "Non-trainable params: 0\n",
      "_________________________________________________________________\n"
     ]
    }
   ],
   "source": [
    "# Input con secuencias de enteros con longitud variable\n",
    "inputs = keras.Input(shape=(None,), dtype=\"int32\")\n",
    "\n",
    "# Conseguimos la representación vectorial (embedding) de cada entero en un vector 128-dimensional\n",
    "x = layers.Embedding(max_features, 128)(inputs)\n",
    "\n",
    "# Añadimos 2 unidades LSTM bidireccionales\n",
    "x = layers.SimpleRNN(64, return_sequences=True)(x)\n",
    "x = layers.SimpleRNN(64)(x)\n",
    "\n",
    "# Añadimos un clasificador binario en la salida\n",
    "outputs = layers.Dense(1, activation=\"sigmoid\")(x)\n",
    "\n",
    "# Gaurdamos la arquitectura del modelo\n",
    "model_NN_uni = keras.Model(inputs, outputs)\n",
    "model_NN_uni.summary()"
   ]
  },
  {
   "cell_type": "code",
   "execution_count": 24,
   "metadata": {},
   "outputs": [
    {
     "name": "stdout",
     "output_type": "stream",
     "text": [
      "Epoch 1/3\n",
      "391/391 [==============================] - 43s 109ms/step - loss: 0.6795 - accuracy: 0.5637 - val_loss: 0.5965 - val_accuracy: 0.6789\n",
      "Epoch 2/3\n",
      "391/391 [==============================] - 42s 107ms/step - loss: 0.4166 - accuracy: 0.8072 - val_loss: 0.6057 - val_accuracy: 0.7271\n",
      "Epoch 3/3\n",
      "391/391 [==============================] - 41s 106ms/step - loss: 0.1340 - accuracy: 0.9487 - val_loss: 0.6723 - val_accuracy: 0.7918\n",
      "Desempeño (exactitud): accu_v1=0.7918400168418884 , accu_v2=0.787880003452301\n",
      "Epoch 1/3\n",
      "391/391 [==============================] - 41s 106ms/step - loss: 0.4091 - accuracy: 0.8215 - val_loss: 0.4590 - val_accuracy: 0.7868\n",
      "Epoch 2/3\n",
      "391/391 [==============================] - 41s 105ms/step - loss: 0.1711 - accuracy: 0.9370 - val_loss: 0.3914 - val_accuracy: 0.8420\n",
      "Epoch 3/3\n",
      "391/391 [==============================] - 42s 107ms/step - loss: 0.0310 - accuracy: 0.9911 - val_loss: 0.4897 - val_accuracy: 0.8507\n",
      "Desempeño (exactitud): accu_v1=0.8507199883460999 , accu_v2=0.750760018825531\n",
      "Epoch 1/3\n",
      "391/391 [==============================] - 42s 107ms/step - loss: 0.2486 - accuracy: 0.9042 - val_loss: 0.3219 - val_accuracy: 0.8642\n",
      "Epoch 2/3\n",
      "391/391 [==============================] - 42s 106ms/step - loss: 0.0933 - accuracy: 0.9639 - val_loss: 0.2871 - val_accuracy: 0.9077\n",
      "Epoch 3/3\n",
      "391/391 [==============================] - 41s 104ms/step - loss: 0.0222 - accuracy: 0.9928 - val_loss: 0.4224 - val_accuracy: 0.8861\n",
      "Desempeño (exactitud): accu_v1=0.8860800266265869 , accu_v2=0.704039990901947\n",
      "+--------+--------+--------+\n",
      "| Exac_E | Exac_V | Exac_P |\n",
      "+--------+--------+--------+\n",
      "| 0.9762 | 0.7918 | 0.7879 |\n",
      "| 0.9971 | 0.8507 | 0.7508 |\n",
      "| 0.9979 | 0.8861 | 0.704  |\n",
      "+--------+--------+--------+\n"
     ]
    }
   ],
   "source": [
    "# Inicializamos la tabla donde guardamos los resultados\n",
    "x = PrettyTable([\"Exac_E\", \"Exac_V\", \"Exac_P\"])\n",
    "\n",
    "# Definimos el número máximo de iteraciones (épocas de la red)\n",
    "epocas=3\n",
    "\n",
    "# Definimos los parametros del Adam\n",
    "adam = keras.optimizers.Adam(lr=0.001, beta_1=0.9, beta_2=0.999)\n",
    "\n",
    "# Inicializamos el error \n",
    "err_p = 999\n",
    "\n",
    "for i in range(0,3,1):\n",
    "    r = i^3\n",
    "    CE_x, CV_x, CE_y, CV_y = train_test_split(x_train, y_train, test_size = 0.5, random_state = r)\n",
    "          \n",
    "    # Definimos el método de optimización con respecto a su funcion de perdida (además guardamos la exactitud para cada iteracion)\n",
    "    model_NN_uni = keras.Model(inputs, outputs)\n",
    "    model_NN_uni.compile(loss='binary_crossentropy', optimizer=adam, metrics=['accuracy'])\n",
    "    \n",
    "    # Ajustamos el modelo\n",
    "    history=model_NN_uni.fit(x=CE_x, y=CE_y, epochs=epocas, validation_data=(CV_x, CV_y), verbose=1, shuffle=False)\n",
    "      \n",
    "    # Calculamos las metricas\n",
    "    train_metrics = model_NN_uni.evaluate(x=CE_x, y=CE_y, verbose=0)\n",
    "    valid_metrics = model_NN_uni.evaluate(x=CV_x, y=CV_y, verbose=0)\n",
    "    test_metrics = model_NN_uni.evaluate(x=x_val, y=y_val, verbose=0)\n",
    "    \n",
    "    # Guardamos las métricas de desempeño\n",
    "    accu_e = train_metrics[1]\n",
    "    loss_e = train_metrics[0]\n",
    "    accu_v = valid_metrics[1]\n",
    "    loss_v = valid_metrics[0]\n",
    "    accu_p = test_metrics[1]\n",
    "    loss_p = test_metrics[0]\n",
    "    \n",
    "    if (loss_p < err_p):\n",
    "        pathr =('U_NN_part='+str(r)+'.h5')\n",
    "        model_NN_uni.save(pathr) \n",
    "        err_p = loss_p\n",
    "    \n",
    "    # Imprimimos el desempeño para cada repetición\n",
    "    print('Desempeño (exactitud): accu_v1='+str(accu_v) +' , accu_v2='+str(accu_p))\n",
    "    \n",
    "    x.add_row([np.round(accu_e,4), np.round(accu_v,4), np.round(accu_p,4)])\n",
    "\n",
    "print(x)"
   ]
  },
  {
   "cell_type": "code",
   "execution_count": 25,
   "metadata": {},
   "outputs": [
    {
     "data": {
      "image/png": "[encoded data removed]",
      "text/plain": [
       "<Figure size 432x288 with 1 Axes>"
      ]
     },
     "metadata": {
      "needs_background": "light"
     },
     "output_type": "display_data"
    },
    {
     "data": {
      "image/png": "[encoded data removed]",
      "text/plain": [
       "<Figure size 432x288 with 1 Axes>"
      ]
     },
     "metadata": {
      "needs_background": "light"
     },
     "output_type": "display_data"
    }
   ],
   "source": [
    "plt.figure(1)\n",
    "plt.plot(history.history['accuracy'])  \n",
    "plt.plot(history.history['val_accuracy'])  \n",
    "plt.title('Exactitud')  \n",
    "plt.ylabel('Acc')  \n",
    "plt.xlabel('Epoca')  \n",
    "plt.legend(['Entreno', 'Validacion'], loc='lower right')\n",
    "plt.show()\n",
    "\n",
    "plt.figure(1) \n",
    "plt.plot(history.history['loss'])  \n",
    "plt.plot(history.history['val_loss'])  \n",
    "plt.title('Pérdida')  \n",
    "plt.ylabel('Pérdida')  \n",
    "plt.xlabel('Epoca')  \n",
    "plt.legend(['Entreno', 'Validación'], loc='upper right')  \n",
    "plt.show()"
   ]
  },
  {
   "cell_type": "code",
   "execution_count": 26,
   "metadata": {},
   "outputs": [
    {
     "name": "stdout",
     "output_type": "stream",
     "text": [
      "[[11667   833]\n",
      " [  617 11883]]\n",
      "Exactitud:  0.9419999718666077\n"
     ]
    }
   ],
   "source": [
    "Y_predt = model_NN_uni.predict(x_train)\n",
    "Y_predst = (Y_predt > 0.5)\n",
    "\n",
    "print(confusion_matrix(y_train, Y_predst))\n",
    "print(\"Exactitud: \", model_NN_uni.evaluate(x=x_train, y=y_train, verbose=0)[1])"
   ]
  },
  {
   "cell_type": "code",
   "execution_count": 27,
   "metadata": {},
   "outputs": [
    {
     "name": "stdout",
     "output_type": "stream",
     "text": [
      "[[8550 3950]\n",
      " [3449 9051]]\n",
      "Exactitud:  0.704039990901947\n"
     ]
    }
   ],
   "source": [
    "Y_predv = model_NN_uni.predict(x_val)\n",
    "Y_predsv = (Y_predv > 0.5)\n",
    "\n",
    "print(confusion_matrix(y_val, Y_predsv))\n",
    "print(\"Exactitud: \", model_NN_uni.evaluate(x=x_val, y=y_val, verbose=0)[1])"
   ]
  },
  {
   "cell_type": "markdown",
   "metadata": {},
   "source": [
    "**Podemos observar que para un modelo de redes densamente conectadas en este caso tiene no tiene mejor desempeño que un modelo usando celdas Unidireccionales LSTM, con exactidudes de 70% contra 85% respectivamente.**"
   ]
  },
  {
   "cell_type": "markdown",
   "metadata": {},
   "source": [
    "### 1.1.3 Unidireccional GRU\n",
    "\n",
    "En este caso ussaremos una red neuronal unidireccional GRU (Unidad recurrente cerrada). Esta se diferencia de LSTM porque no tiene que usar una unidad de memoria para controlar el flujo de información. Puede hacer uso directamente de las capas escondidas sin ningún control, tiene menos parámetros, por lo tanto entrena un poco más rápido, sin embargo con datos muy grandes LSTM podría ser mejor en algunos casos. \n",
    "A continuación definiremos  las capas (2) en este caso unidireccionales. "
   ]
  },
  {
   "cell_type": "code",
   "execution_count": 37,
   "metadata": {},
   "outputs": [
    {
     "name": "stdout",
     "output_type": "stream",
     "text": [
      "Model: \"functional_41\"\n",
      "_________________________________________________________________\n",
      "Layer (type)                 Output Shape              Param #   \n",
      "=================================================================\n",
      "input_6 (InputLayer)         [(None, None)]            0         \n",
      "_________________________________________________________________\n",
      "embedding_5 (Embedding)      (None, None, 128)         2560000   \n",
      "_________________________________________________________________\n",
      "gru (GRU)                    (None, None, 64)          37248     \n",
      "_________________________________________________________________\n",
      "gru_1 (GRU)                  (None, 64)                24960     \n",
      "_________________________________________________________________\n",
      "dense_5 (Dense)              (None, 1)                 65        \n",
      "=================================================================\n",
      "Total params: 2,622,273\n",
      "Trainable params: 2,622,273\n",
      "Non-trainable params: 0\n",
      "_________________________________________________________________\n"
     ]
    }
   ],
   "source": [
    "# Input con secuencias de enteros con longitud variable\n",
    "inputs = keras.Input(shape=(None,), dtype=\"int32\")\n",
    "\n",
    "# Conseguimos la representación vectorial (embedding) de cada entero en un vector 128-dimensional\n",
    "x = layers.Embedding(max_features, 128)(inputs)\n",
    "\n",
    "# Añadimos 2 unidades GRU unidireccionales\n",
    "x = layers.GRU(64, return_sequences=True)(x)\n",
    "x = layers.GRU(64)(x)\n",
    "\n",
    "# Añadimos un clasificador binario en la salida\n",
    "outputs = layers.Dense(1, activation=\"sigmoid\")(x)\n",
    "\n",
    "# Gaurdamos la arquitectura del modelo\n",
    "model_GRU_uni = keras.Model(inputs, outputs)\n",
    "model_GRU_uni.summary()"
   ]
  },
  {
   "cell_type": "code",
   "execution_count": 38,
   "metadata": {},
   "outputs": [
    {
     "name": "stdout",
     "output_type": "stream",
     "text": [
      "Epoch 1/3\n",
      "391/391 [==============================] - 82s 209ms/step - loss: 0.4897 - accuracy: 0.7523 - val_loss: 0.3462 - val_accuracy: 0.8534\n",
      "Epoch 2/3\n",
      "391/391 [==============================] - 82s 210ms/step - loss: 0.2998 - accuracy: 0.8755 - val_loss: 0.3783 - val_accuracy: 0.8455\n",
      "Epoch 3/3\n",
      "391/391 [==============================] - 85s 217ms/step - loss: 0.1551 - accuracy: 0.9417 - val_loss: 0.4251 - val_accuracy: 0.8452\n",
      "Desempeño (exactitud): accu_v1=0.8452000021934509 , accu_v2=0.8343600034713745\n",
      "Epoch 1/3\n",
      "391/391 [==============================] - 83s 212ms/step - loss: 0.2115 - accuracy: 0.9207 - val_loss: 0.2073 - val_accuracy: 0.9210\n",
      "Epoch 2/3\n",
      "391/391 [==============================] - 83s 212ms/step - loss: 0.0778 - accuracy: 0.9768 - val_loss: 0.3106 - val_accuracy: 0.9005\n",
      "Epoch 3/3\n",
      "391/391 [==============================] - 82s 210ms/step - loss: 0.0470 - accuracy: 0.9851 - val_loss: 0.4953 - val_accuracy: 0.8802\n",
      "Desempeño (exactitud): accu_v1=0.8801599740982056 , accu_v2=0.8311600089073181\n",
      "Epoch 1/3\n",
      "391/391 [==============================] - 83s 213ms/step - loss: 0.1502 - accuracy: 0.9494 - val_loss: 0.1404 - val_accuracy: 0.9528\n",
      "Epoch 2/3\n",
      "391/391 [==============================] - 81s 207ms/step - loss: 0.0469 - accuracy: 0.9870 - val_loss: 0.1636 - val_accuracy: 0.9468\n",
      "Epoch 3/3\n",
      "391/391 [==============================] - 81s 207ms/step - loss: 0.0162 - accuracy: 0.9965 - val_loss: 0.2088 - val_accuracy: 0.9452\n",
      "Desempeño (exactitud): accu_v1=0.9452000260353088 , accu_v2=0.8590400218963623\n",
      "+--------+--------+--------+\n",
      "| Exac_E | Exac_V | Exac_P |\n",
      "+--------+--------+--------+\n",
      "| 0.9803 | 0.8452 | 0.8344 |\n",
      "| 0.9757 | 0.8802 | 0.8312 |\n",
      "| 0.9994 | 0.9452 | 0.859  |\n",
      "+--------+--------+--------+\n"
     ]
    }
   ],
   "source": [
    "# Inicializamos la tabla donde guardamos los resultados\n",
    "x = PrettyTable([\"Exac_E\", \"Exac_V\", \"Exac_P\"])\n",
    "\n",
    "# Definimos el número máximo de iteraciones (épocas de la red)\n",
    "epocas=3\n",
    "\n",
    "# Definimos los parametros del Adam\n",
    "adam = keras.optimizers.Adam(lr=0.001, beta_1=0.9, beta_2=0.999)\n",
    "\n",
    "# Inicializamos el error \n",
    "err_p = 999\n",
    "\n",
    "for i in range(0,3,1):\n",
    "    r = i^3\n",
    "    CE_x, CV_x, CE_y, CV_y = train_test_split(x_train, y_train, test_size = 0.5, random_state = r)\n",
    "          \n",
    "    # Definimos el método de optimización con respecto a su funcion de perdida (además guardamos la exactitud para cada iteracion)\n",
    "    model_GRU_uni = keras.Model(inputs, outputs)\n",
    "    model_GRU_uni.compile(loss='binary_crossentropy', optimizer=adam, metrics=['accuracy'])\n",
    "    \n",
    "    # Ajustamos el modelo\n",
    "    history=model_GRU_uni.fit(x=CE_x, y=CE_y, epochs=epocas, validation_data=(CV_x, CV_y), verbose=1, shuffle=False)\n",
    "      \n",
    "    # Calculamos las metricas\n",
    "    train_metrics = model_GRU_uni.evaluate(x=CE_x, y=CE_y, verbose=0)\n",
    "    valid_metrics = model_GRU_uni.evaluate(x=CV_x, y=CV_y, verbose=0)\n",
    "    test_metrics = model_GRU_uni.evaluate(x=x_val, y=y_val, verbose=0)\n",
    "    \n",
    "    # Guardamos las métricas de desempeño\n",
    "    accu_e = train_metrics[1]\n",
    "    loss_e = train_metrics[0]\n",
    "    accu_v = valid_metrics[1]\n",
    "    loss_v = valid_metrics[0]\n",
    "    accu_p = test_metrics[1]\n",
    "    loss_p = test_metrics[0]\n",
    "    \n",
    "    if (loss_p < err_p):\n",
    "        pathr =('U_GRU_part='+str(r)+'.h5')\n",
    "        model_GRU_uni.save(pathr) \n",
    "        err_p = loss_p\n",
    "    \n",
    "    # Imprimimos el desempeño para cada repetición\n",
    "    print('Desempeño (exactitud): accu_v1='+str(accu_v) +' , accu_v2='+str(accu_p))\n",
    "    \n",
    "    x.add_row([np.round(accu_e,4), np.round(accu_v,4), np.round(accu_p,4)])\n",
    "\n",
    "print(x)"
   ]
  },
  {
   "cell_type": "markdown",
   "metadata": {},
   "source": [
    "**Se puede observar que los resultados de accuracy en los datos de prueba estan en 84%, mucho mejor que en el LSTM unidireccional realizado en el punto anterior que fue alrededor de 80%.**"
   ]
  },
  {
   "cell_type": "code",
   "execution_count": 39,
   "metadata": {},
   "outputs": [
    {
     "data": {
      "image/png": "[encoded data removed]",
      "text/plain": [
       "<Figure size 432x288 with 1 Axes>"
      ]
     },
     "metadata": {
      "needs_background": "light"
     },
     "output_type": "display_data"
    },
    {
     "data": {
      "image/png": "[encoded data removed]",
      "text/plain": [
       "<Figure size 432x288 with 1 Axes>"
      ]
     },
     "metadata": {
      "needs_background": "light"
     },
     "output_type": "display_data"
    }
   ],
   "source": [
    "plt.figure(1)\n",
    "plt.plot(history.history['accuracy'])  \n",
    "plt.plot(history.history['val_accuracy'])  \n",
    "plt.title('Exactitud')  \n",
    "plt.ylabel('Acc')  \n",
    "plt.xlabel('Epoca')  \n",
    "plt.legend(['Entreno', 'Validacion'], loc='lower right')\n",
    "plt.show()\n",
    "\n",
    "plt.figure(1) \n",
    "plt.plot(history.history['loss'])  \n",
    "plt.plot(history.history['val_loss'])  \n",
    "plt.title('Pérdida')  \n",
    "plt.ylabel('Pérdida')  \n",
    "plt.xlabel('Epoca')  \n",
    "plt.legend(['Entreno', 'Validación'], loc='upper right')  \n",
    "plt.show()"
   ]
  },
  {
   "cell_type": "code",
   "execution_count": 41,
   "metadata": {},
   "outputs": [
    {
     "name": "stdout",
     "output_type": "stream",
     "text": [
      "[[12106   394]\n",
      " [  299 12201]]\n",
      "Exactitud:  0.9722800254821777\n"
     ]
    }
   ],
   "source": [
    "Y_predt = model_GRU_uni.predict(x_train)\n",
    "Y_predst = (Y_predt > 0.5)\n",
    "\n",
    "print(confusion_matrix(y_train, Y_predst))\n",
    "print(\"Exactitud: \", model_GRU_uni.evaluate(x=x_train, y=y_train, verbose=0)[1])"
   ]
  },
  {
   "cell_type": "markdown",
   "metadata": {},
   "source": [
    "Al evaluar la exactitud sobre el set de trainning, se tiene una métrica de 96%, comparada con un 91% con red simple Unidireccional."
   ]
  },
  {
   "cell_type": "code",
   "execution_count": 40,
   "metadata": {},
   "outputs": [
    {
     "name": "stdout",
     "output_type": "stream",
     "text": [
      "[[10743  1757]\n",
      " [ 1767 10733]]\n",
      "Exactitud:  0.8590400218963623\n"
     ]
    }
   ],
   "source": [
    "Y_predv = model_GRU_uni.predict(x_val)\n",
    "Y_predsv = (Y_predv > 0.5)\n",
    "\n",
    "print(confusion_matrix(y_val, Y_predsv))\n",
    "print(\"Exactitud: \", model_GRU_uni.evaluate(x=x_val, y=y_val, verbose=0)[1])"
   ]
  },
  {
   "cell_type": "markdown",
   "metadata": {},
   "source": [
    "**Evaluando el modelo para predecir sobre los datos de validación a continuación se observa una exactitud de 86%, mejor que LSTM unidireccional (84%), que la red simple (70%), y también mejor que la LSTM Bidireccional del inicio de este notebook que presentó una exactitud de 81%**"
   ]
  },
  {
   "cell_type": "markdown",
   "metadata": {},
   "source": [
    "## Ejercicio 1.2\n",
    "\n",
    "Desarrolle otro modelo de red neuronal (de libre elección) para mejorar los resultados obtenidos con el mejor modelo obtenido hasta ahora.\n",
    "\n",
    "Puede explorar una red recurrente simple, LSTM, GRU, o cualquier otro tipo de red (CNN, CNN-LSTM, ...)\n",
    "\n",
    "Compare los resultados sobre los datos de prueba y analice el desempeño de su modelo. Concluya y proponga estrategias para seguir mejorando los resultados."
   ]
  },
  {
   "cell_type": "markdown",
   "metadata": {},
   "source": [
    "## 1.2.1 Red Bidireccional LSTM\n",
    "\n",
    "Incrementaremos el numero de epocas."
   ]
  },
  {
   "cell_type": "code",
   "execution_count": 28,
   "metadata": {},
   "outputs": [
    {
     "name": "stdout",
     "output_type": "stream",
     "text": [
      "Model: \"functional_25\"\n",
      "_________________________________________________________________\n",
      "Layer (type)                 Output Shape              Param #   \n",
      "=================================================================\n",
      "input_4 (InputLayer)         [(None, None)]            0         \n",
      "_________________________________________________________________\n",
      "embedding_3 (Embedding)      (None, None, 128)         2560000   \n",
      "_________________________________________________________________\n",
      "bidirectional_2 (Bidirection (None, None, 128)         98816     \n",
      "_________________________________________________________________\n",
      "bidirectional_3 (Bidirection (None, 128)               98816     \n",
      "_________________________________________________________________\n",
      "dense_3 (Dense)              (None, 1)                 129       \n",
      "=================================================================\n",
      "Total params: 2,757,761\n",
      "Trainable params: 2,757,761\n",
      "Non-trainable params: 0\n",
      "_________________________________________________________________\n"
     ]
    }
   ],
   "source": [
    "# Input con secuencias de enteros con longitud variable\n",
    "inputs = keras.Input(shape=(None,), dtype=\"int32\")\n",
    "\n",
    "# Conseguimos la representación vectorial (embedding) de cada entero en un vector 128-dimensional\n",
    "x = layers.Embedding(max_features, 128)(inputs)\n",
    "\n",
    "# Añadimos 2 unidades LSTM bidireccionales\n",
    "x = layers.Bidirectional(layers.LSTM(64, return_sequences=True))(x)\n",
    "x = layers.Bidirectional(layers.LSTM(64))(x)\n",
    "\n",
    "# Añadimos un clasificador binario en la salida\n",
    "outputs = layers.Dense(1, activation=\"sigmoid\")(x)\n",
    "\n",
    "# Gaurdamos la arquitectura del modelo\n",
    "model_BLST_Opt = keras.Model(inputs, outputs)\n",
    "model_BLST_Opt.summary()"
   ]
  },
  {
   "cell_type": "code",
   "execution_count": 29,
   "metadata": {},
   "outputs": [
    {
     "name": "stdout",
     "output_type": "stream",
     "text": [
      "Epoch 1/10\n",
      "391/391 [==============================] - 115s 293ms/step - loss: 0.4622 - accuracy: 0.7740 - val_loss: 0.3689 - val_accuracy: 0.8502\n",
      "Epoch 2/10\n",
      "391/391 [==============================] - 113s 289ms/step - loss: 0.2342 - accuracy: 0.9114 - val_loss: 0.3812 - val_accuracy: 0.8362\n",
      "Epoch 3/10\n",
      "391/391 [==============================] - 113s 290ms/step - loss: 0.1197 - accuracy: 0.9585 - val_loss: 0.5110 - val_accuracy: 0.8192\n",
      "Epoch 4/10\n",
      "391/391 [==============================] - 114s 292ms/step - loss: 0.0757 - accuracy: 0.9750 - val_loss: 0.5749 - val_accuracy: 0.8009\n",
      "Epoch 5/10\n",
      "391/391 [==============================] - 113s 289ms/step - loss: 0.0725 - accuracy: 0.9770 - val_loss: 0.5574 - val_accuracy: 0.8390\n",
      "Epoch 6/10\n",
      "391/391 [==============================] - 113s 288ms/step - loss: 0.0483 - accuracy: 0.9847 - val_loss: 0.6334 - val_accuracy: 0.8368\n",
      "Epoch 7/10\n",
      "391/391 [==============================] - 113s 288ms/step - loss: 0.0343 - accuracy: 0.9894 - val_loss: 0.8620 - val_accuracy: 0.7938\n",
      "Epoch 8/10\n",
      "391/391 [==============================] - 113s 288ms/step - loss: 0.0252 - accuracy: 0.9927 - val_loss: 1.0831 - val_accuracy: 0.7837\n",
      "Epoch 9/10\n",
      "391/391 [==============================] - 113s 289ms/step - loss: 0.0354 - accuracy: 0.9878 - val_loss: 0.8641 - val_accuracy: 0.8298\n",
      "Epoch 10/10\n",
      "391/391 [==============================] - 113s 290ms/step - loss: 0.0208 - accuracy: 0.9937 - val_loss: 0.8518 - val_accuracy: 0.8361\n",
      "Desempeño (exactitud): accu_v1=0.836080014705658 , accu_v2=0.8234400153160095\n",
      "Epoch 1/10\n",
      "391/391 [==============================] - 113s 290ms/step - loss: 0.2242 - accuracy: 0.9188 - val_loss: 0.1967 - val_accuracy: 0.9277\n",
      "Epoch 2/10\n",
      "391/391 [==============================] - 112s 287ms/step - loss: 0.0839 - accuracy: 0.9752 - val_loss: 0.2454 - val_accuracy: 0.9225\n",
      "Epoch 3/10\n",
      "391/391 [==============================] - 112s 288ms/step - loss: 0.0384 - accuracy: 0.9891 - val_loss: 0.5143 - val_accuracy: 0.8521\n",
      "Epoch 4/10\n",
      "391/391 [==============================] - 112s 286ms/step - loss: 0.0474 - accuracy: 0.9856 - val_loss: 0.3812 - val_accuracy: 0.9093\n",
      "Epoch 5/10\n",
      "391/391 [==============================] - 112s 287ms/step - loss: 0.0298 - accuracy: 0.9910 - val_loss: 0.3746 - val_accuracy: 0.9049\n",
      "Epoch 6/10\n",
      "391/391 [==============================] - 113s 288ms/step - loss: 0.0263 - accuracy: 0.9928 - val_loss: 0.3776 - val_accuracy: 0.9044\n",
      "Epoch 7/10\n",
      "391/391 [==============================] - 112s 287ms/step - loss: 0.0191 - accuracy: 0.9943 - val_loss: 0.4215 - val_accuracy: 0.9124\n",
      "Epoch 8/10\n",
      "391/391 [==============================] - 112s 286ms/step - loss: 0.0116 - accuracy: 0.9968 - val_loss: 0.4646 - val_accuracy: 0.9138\n",
      "Epoch 9/10\n",
      "391/391 [==============================] - 112s 286ms/step - loss: 0.0079 - accuracy: 0.9983 - val_loss: 0.4704 - val_accuracy: 0.8965\n",
      "Epoch 10/10\n",
      "391/391 [==============================] - 113s 289ms/step - loss: 0.0121 - accuracy: 0.9962 - val_loss: 0.4867 - val_accuracy: 0.9090\n",
      "Desempeño (exactitud): accu_v1=0.9090399742126465 , accu_v2=0.8411999940872192\n",
      "Epoch 1/10\n",
      "391/391 [==============================] - 114s 290ms/step - loss: 0.1508 - accuracy: 0.9501 - val_loss: 0.1514 - val_accuracy: 0.9478\n",
      "Epoch 2/10\n",
      "391/391 [==============================] - 112s 287ms/step - loss: 0.0485 - accuracy: 0.9860 - val_loss: 0.1700 - val_accuracy: 0.9479\n",
      "Epoch 3/10\n",
      "391/391 [==============================] - 113s 289ms/step - loss: 0.0200 - accuracy: 0.9948 - val_loss: 0.2163 - val_accuracy: 0.9462\n",
      "Epoch 4/10\n",
      "391/391 [==============================] - 113s 290ms/step - loss: 0.0190 - accuracy: 0.9949 - val_loss: 0.2388 - val_accuracy: 0.9417\n",
      "Epoch 5/10\n",
      "391/391 [==============================] - 115s 295ms/step - loss: 0.0064 - accuracy: 0.9986 - val_loss: 0.2967 - val_accuracy: 0.9300\n",
      "Epoch 6/10\n",
      "391/391 [==============================] - 114s 292ms/step - loss: 0.0302 - accuracy: 0.9909 - val_loss: 0.3489 - val_accuracy: 0.9078\n",
      "Epoch 7/10\n",
      "391/391 [==============================] - 112s 287ms/step - loss: 0.0080 - accuracy: 0.9977 - val_loss: 0.2990 - val_accuracy: 0.9368\n",
      "Epoch 8/10\n",
      "391/391 [==============================] - 113s 288ms/step - loss: 0.0012 - accuracy: 0.9998 - val_loss: 0.3262 - val_accuracy: 0.9421\n",
      "Epoch 9/10\n",
      "391/391 [==============================] - 113s 289ms/step - loss: 4.4285e-04 - accuracy: 0.9999 - val_loss: 0.3381 - val_accuracy: 0.9414\n",
      "Epoch 10/10\n",
      "391/391 [==============================] - 113s 289ms/step - loss: 1.0131e-04 - accuracy: 1.0000 - val_loss: 0.3606 - val_accuracy: 0.9425\n",
      "Desempeño (exactitud): accu_v1=0.9424800276756287 , accu_v2=0.8496400117874146\n",
      "+--------+--------+--------+\n",
      "| Exac_E | Exac_V | Exac_P |\n",
      "+--------+--------+--------+\n",
      "| 0.9976 | 0.8361 | 0.8234 |\n",
      "| 0.9993 | 0.909  | 0.8412 |\n",
      "|  1.0   | 0.9425 | 0.8496 |\n",
      "+--------+--------+--------+\n"
     ]
    }
   ],
   "source": [
    "# Inicializamos la tabla donde guardamos los resultados\n",
    "x = PrettyTable([\"Exac_E\", \"Exac_V\", \"Exac_P\"])\n",
    "\n",
    "# Definimos el número máximo de iteraciones (épocas de la red)\n",
    "epocas=10\n",
    "\n",
    "# Definimos los parametros del Adam\n",
    "adam = keras.optimizers.Adam(lr=0.001, beta_1=0.9, beta_2=0.999)\n",
    "\n",
    "# Inicializamos el error \n",
    "err_p = 999\n",
    "\n",
    "for i in range(0,3,1):\n",
    "    r = i^3\n",
    "    CE_x, CV_x, CE_y, CV_y = train_test_split(x_train, y_train, test_size = 0.5, random_state = r)\n",
    "          \n",
    "    # Definimos el método de optimización con respecto a su funcion de perdida (además guardamos la exactitud para cada iteracion)\n",
    "    model_BLST_Opt = keras.Model(inputs, outputs)\n",
    "    model_BLST_Opt.compile(loss='binary_crossentropy', optimizer=adam, metrics=['accuracy'])\n",
    "    \n",
    "    # Ajustamos el modelo\n",
    "    history=model_BLST_Opt.fit(x=CE_x, y=CE_y, epochs=epocas, validation_data=(CV_x, CV_y), verbose=1, shuffle=False)\n",
    "      \n",
    "    # Calculamos las metricas\n",
    "    train_metrics = model_BLST_Opt.evaluate(x=CE_x, y=CE_y, verbose=0)\n",
    "    valid_metrics = model_BLST_Opt.evaluate(x=CV_x, y=CV_y, verbose=0)\n",
    "    test_metrics = model_BLST_Opt.evaluate(x=x_val, y=y_val, verbose=0)\n",
    "    \n",
    "    # Guardamos las métricas de desempeño\n",
    "    accu_e = train_metrics[1]\n",
    "    loss_e = train_metrics[0]\n",
    "    accu_v = valid_metrics[1]\n",
    "    loss_v = valid_metrics[0]\n",
    "    accu_p = test_metrics[1]\n",
    "    loss_p = test_metrics[0]\n",
    "    \n",
    "    if (loss_p < err_p):\n",
    "        pathr =('BLSTM_Opt_part='+str(r)+'.h5')\n",
    "        model.save(pathr) \n",
    "        err_p = loss_p\n",
    "    \n",
    "    # Imprimimos el desempeño para cada repetición\n",
    "    print('Desempeño (exactitud): accu_v1='+str(accu_v) +' , accu_v2='+str(accu_p))\n",
    "    \n",
    "    x.add_row([np.round(accu_e,4), np.round(accu_v,4), np.round(accu_p,4)])\n",
    "\n",
    "print(x)"
   ]
  },
  {
   "cell_type": "code",
   "execution_count": 30,
   "metadata": {},
   "outputs": [
    {
     "data": {
      "image/png": "[encoded data removed]",
      "text/plain": [
       "<Figure size 432x288 with 1 Axes>"
      ]
     },
     "metadata": {
      "needs_background": "light"
     },
     "output_type": "display_data"
    },
    {
     "data": {
      "image/png": "[encoded data removed]",
      "text/plain": [
       "<Figure size 432x288 with 1 Axes>"
      ]
     },
     "metadata": {
      "needs_background": "light"
     },
     "output_type": "display_data"
    }
   ],
   "source": [
    "plt.figure(1)\n",
    "plt.plot(history.history['accuracy'])  \n",
    "plt.plot(history.history['val_accuracy'])  \n",
    "plt.title('Exactitud')  \n",
    "plt.ylabel('Acc')  \n",
    "plt.xlabel('Epoca')  \n",
    "plt.legend(['Entreno', 'Validacion'], loc='lower right')\n",
    "plt.show()\n",
    "\n",
    "plt.figure(1) \n",
    "plt.plot(history.history['loss'])  \n",
    "plt.plot(history.history['val_loss'])  \n",
    "plt.title('Pérdida')  \n",
    "plt.ylabel('Pérdida')  \n",
    "plt.xlabel('Epoca')  \n",
    "plt.legend(['Entreno', 'Validación'], loc='upper right')  \n",
    "plt.show()"
   ]
  },
  {
   "cell_type": "code",
   "execution_count": 32,
   "metadata": {},
   "outputs": [
    {
     "name": "stdout",
     "output_type": "stream",
     "text": [
      "[[12163   337]\n",
      " [  382 12118]]\n",
      "Exactitud:  0.9712399840354919\n"
     ]
    }
   ],
   "source": [
    "Y_predt = model_BLST_Opt.predict(x_train)\n",
    "Y_predst = (Y_predt > 0.5)\n",
    "\n",
    "print(confusion_matrix(y_train, Y_predst))\n",
    "print(\"Exactitud: \", model_BLST_Opt.evaluate(x=x_train, y=y_train, verbose=0)[1])"
   ]
  },
  {
   "cell_type": "code",
   "execution_count": 33,
   "metadata": {},
   "outputs": [
    {
     "name": "stdout",
     "output_type": "stream",
     "text": [
      "[[10749  1751]\n",
      " [ 2008 10492]]\n",
      "Exactitud:  0.8496400117874146\n"
     ]
    }
   ],
   "source": [
    "Y_predv = model_BLST_Opt.predict(x_val)\n",
    "Y_predsv = (Y_predv > 0.5)\n",
    "\n",
    "print(confusion_matrix(y_val, Y_predsv))\n",
    "print(\"Exactitud: \", model_BLST_Opt.evaluate(x=x_val, y=y_val, verbose=0)[1])"
   ]
  },
  {
   "cell_type": "markdown",
   "metadata": {},
   "source": [
    "**Podemos ver que incrementando el numero de epocas para un modelo bidireccional LSTM la exactidud se incrementa de 83% a 85%, sin embargo, sigue teniendo mejores valores de exactitud la red GRU unidireccional que arroja un 86%**"
   ]
  },
  {
   "cell_type": "markdown",
   "metadata": {},
   "source": [
    "## 1.2.2 Red Unidireccional LSTM\n",
    "\n",
    "Incrementaremos el numero de epocas."
   ]
  },
  {
   "cell_type": "code",
   "execution_count": 35,
   "metadata": {},
   "outputs": [
    {
     "name": "stdout",
     "output_type": "stream",
     "text": [
      "Model: \"functional_33\"\n",
      "_________________________________________________________________\n",
      "Layer (type)                 Output Shape              Param #   \n",
      "=================================================================\n",
      "input_5 (InputLayer)         [(None, None)]            0         \n",
      "_________________________________________________________________\n",
      "embedding_4 (Embedding)      (None, None, 128)         2560000   \n",
      "_________________________________________________________________\n",
      "lstm_6 (LSTM)                (None, None, 64)          49408     \n",
      "_________________________________________________________________\n",
      "lstm_7 (LSTM)                (None, 64)                33024     \n",
      "_________________________________________________________________\n",
      "dense_4 (Dense)              (None, 1)                 65        \n",
      "=================================================================\n",
      "Total params: 2,642,497\n",
      "Trainable params: 2,642,497\n",
      "Non-trainable params: 0\n",
      "_________________________________________________________________\n"
     ]
    }
   ],
   "source": [
    "# Input con secuencias de enteros con longitud variable\n",
    "inputs = keras.Input(shape=(None,), dtype=\"int32\")\n",
    "\n",
    "# Conseguimos la representación vectorial (embedding) de cada entero en un vector 128-dimensional\n",
    "x = layers.Embedding(max_features, 128)(inputs)\n",
    "\n",
    "# Añadimos 2 unidades LSTM bidireccionales\n",
    "x = layers.LSTM(64, return_sequences=True)(x)\n",
    "x = layers.LSTM(64)(x)\n",
    "\n",
    "# Añadimos un clasificador binario en la salida\n",
    "outputs = layers.Dense(1, activation=\"sigmoid\")(x)\n",
    "\n",
    "# Gaurdamos la arquitectura del modelo\n",
    "model_ULSTM_Opt = keras.Model(inputs, outputs)\n",
    "model_ULSTM_Opt.summary()"
   ]
  },
  {
   "cell_type": "code",
   "execution_count": 36,
   "metadata": {},
   "outputs": [
    {
     "name": "stdout",
     "output_type": "stream",
     "text": [
      "Epoch 1/10\n",
      "391/391 [==============================] - 88s 225ms/step - loss: 0.4382 - accuracy: 0.7953 - val_loss: 0.3820 - val_accuracy: 0.8286\n",
      "Epoch 2/10\n",
      "391/391 [==============================] - 91s 234ms/step - loss: 0.2300 - accuracy: 0.9120 - val_loss: 0.3720 - val_accuracy: 0.8465\n",
      "Epoch 3/10\n",
      "391/391 [==============================] - 92s 235ms/step - loss: 0.1587 - accuracy: 0.9432 - val_loss: 0.4443 - val_accuracy: 0.8543\n",
      "Epoch 4/10\n",
      "391/391 [==============================] - 92s 235ms/step - loss: 0.1406 - accuracy: 0.9502 - val_loss: 0.5177 - val_accuracy: 0.8442\n",
      "Epoch 5/10\n",
      "391/391 [==============================] - 92s 236ms/step - loss: 0.0718 - accuracy: 0.9770 - val_loss: 0.6707 - val_accuracy: 0.8418\n",
      "Epoch 6/10\n",
      "391/391 [==============================] - 92s 235ms/step - loss: 0.0494 - accuracy: 0.9825 - val_loss: 0.7508 - val_accuracy: 0.8341\n",
      "Epoch 7/10\n",
      "391/391 [==============================] - 91s 234ms/step - loss: 0.0381 - accuracy: 0.9877 - val_loss: 0.7745 - val_accuracy: 0.8207\n",
      "Epoch 8/10\n",
      "391/391 [==============================] - 92s 234ms/step - loss: 0.0238 - accuracy: 0.9930 - val_loss: 0.8699 - val_accuracy: 0.8035\n",
      "Epoch 9/10\n",
      "391/391 [==============================] - 92s 235ms/step - loss: 0.0259 - accuracy: 0.9922 - val_loss: 0.8843 - val_accuracy: 0.7994\n",
      "Epoch 10/10\n",
      "391/391 [==============================] - 92s 235ms/step - loss: 0.0289 - accuracy: 0.9906 - val_loss: 0.7489 - val_accuracy: 0.7802\n",
      "Desempeño (exactitud): accu_v1=0.780239999294281 , accu_v2=0.7682399749755859\n",
      "Epoch 1/10\n",
      "391/391 [==============================] - 92s 235ms/step - loss: 0.2441 - accuracy: 0.9136 - val_loss: 0.2095 - val_accuracy: 0.9253\n",
      "Epoch 2/10\n",
      "391/391 [==============================] - 92s 234ms/step - loss: 0.1025 - accuracy: 0.9674 - val_loss: 0.2517 - val_accuracy: 0.9193\n",
      "Epoch 3/10\n",
      "391/391 [==============================] - 91s 234ms/step - loss: 0.0508 - accuracy: 0.9841 - val_loss: 0.3212 - val_accuracy: 0.9165\n",
      "Epoch 4/10\n",
      "391/391 [==============================] - 92s 235ms/step - loss: 0.0369 - accuracy: 0.9895 - val_loss: 0.3610 - val_accuracy: 0.9116\n",
      "Epoch 5/10\n",
      "391/391 [==============================] - 93s 238ms/step - loss: 0.0377 - accuracy: 0.9882 - val_loss: 0.4306 - val_accuracy: 0.8926\n",
      "Epoch 6/10\n",
      "391/391 [==============================] - 92s 235ms/step - loss: 0.0479 - accuracy: 0.9848 - val_loss: 0.4274 - val_accuracy: 0.8983\n",
      "Epoch 7/10\n",
      "391/391 [==============================] - 92s 235ms/step - loss: 0.0183 - accuracy: 0.9937 - val_loss: 0.4418 - val_accuracy: 0.8942\n",
      "Epoch 8/10\n",
      "391/391 [==============================] - 92s 236ms/step - loss: 0.0092 - accuracy: 0.9974 - val_loss: 0.4937 - val_accuracy: 0.8983\n",
      "Epoch 9/10\n",
      "391/391 [==============================] - 92s 235ms/step - loss: 0.0022 - accuracy: 0.9994 - val_loss: 0.5913 - val_accuracy: 0.8896\n",
      "Epoch 10/10\n",
      "391/391 [==============================] - 93s 237ms/step - loss: 0.0178 - accuracy: 0.9938 - val_loss: 0.5331 - val_accuracy: 0.8939\n",
      "Desempeño (exactitud): accu_v1=0.8939200043678284 , accu_v2=0.8303599953651428\n",
      "Epoch 1/10\n",
      "391/391 [==============================] - 89s 228ms/step - loss: 0.1645 - accuracy: 0.9495 - val_loss: 0.1553 - val_accuracy: 0.9468\n",
      "Epoch 2/10\n",
      "391/391 [==============================] - 92s 235ms/step - loss: 0.0566 - accuracy: 0.9842 - val_loss: 0.1629 - val_accuracy: 0.9497\n",
      "Epoch 3/10\n",
      "391/391 [==============================] - 91s 233ms/step - loss: 0.0172 - accuracy: 0.9963 - val_loss: 0.2296 - val_accuracy: 0.9444\n",
      "Epoch 4/10\n",
      "391/391 [==============================] - 90s 231ms/step - loss: 0.0075 - accuracy: 0.9982 - val_loss: 0.2453 - val_accuracy: 0.9429\n",
      "Epoch 5/10\n",
      "391/391 [==============================] - 91s 233ms/step - loss: 0.0300 - accuracy: 0.9902 - val_loss: 0.2518 - val_accuracy: 0.9131\n",
      "Epoch 6/10\n",
      "391/391 [==============================] - 91s 233ms/step - loss: 0.0352 - accuracy: 0.9886 - val_loss: 0.3132 - val_accuracy: 0.9163\n",
      "Epoch 7/10\n",
      "391/391 [==============================] - 91s 232ms/step - loss: 0.0072 - accuracy: 0.9983 - val_loss: 0.2829 - val_accuracy: 0.9392\n",
      "Epoch 8/10\n",
      "391/391 [==============================] - 91s 233ms/step - loss: 0.0059 - accuracy: 0.9981 - val_loss: 0.3078 - val_accuracy: 0.9349\n",
      "Epoch 9/10\n",
      "391/391 [==============================] - 91s 233ms/step - loss: 0.0090 - accuracy: 0.9970 - val_loss: 0.3289 - val_accuracy: 0.9270\n",
      "Epoch 10/10\n",
      "391/391 [==============================] - 91s 232ms/step - loss: 0.0047 - accuracy: 0.9988 - val_loss: 0.3425 - val_accuracy: 0.9320\n",
      "Desempeño (exactitud): accu_v1=0.9319999814033508 , accu_v2=0.8392800092697144\n",
      "+--------+--------+--------+\n",
      "| Exac_E | Exac_V | Exac_P |\n",
      "+--------+--------+--------+\n",
      "| 0.9546 | 0.7802 | 0.7682 |\n",
      "| 0.9986 | 0.8939 | 0.8304 |\n",
      "| 0.9998 | 0.932  | 0.8393 |\n",
      "+--------+--------+--------+\n"
     ]
    },
    {
     "data": {
      "image/png": "[encoded data removed]",
      "text/plain": [
       "<Figure size 432x288 with 1 Axes>"
      ]
     },
     "metadata": {
      "needs_background": "light"
     },
     "output_type": "display_data"
    },
    {
     "data": {
      "image/png": "[encoded data removed]",
      "text/plain": [
       "<Figure size 432x288 with 1 Axes>"
      ]
     },
     "metadata": {
      "needs_background": "light"
     },
     "output_type": "display_data"
    },
    {
     "name": "stdout",
     "output_type": "stream",
     "text": [
      "[[11951   549]\n",
      " [  304 12196]]\n",
      "\n",
      "Exactitud:  0.9658799767494202\n",
      "[[10172  2328]\n",
      " [ 1690 10810]]\n",
      "Exactitud:  0.8392800092697144\n"
     ]
    }
   ],
   "source": [
    "# Inicializamos la tabla donde guardamos los resultados\n",
    "x = PrettyTable([\"Exac_E\", \"Exac_V\", \"Exac_P\"])\n",
    "\n",
    "# Definimos el número máximo de iteraciones (épocas de la red)\n",
    "epocas=10\n",
    "\n",
    "# Definimos los parametros del Adam\n",
    "adam = keras.optimizers.Adam(lr=0.001, beta_1=0.9, beta_2=0.999)\n",
    "\n",
    "# Inicializamos el error \n",
    "err_p = 999\n",
    "\n",
    "for i in range(0,3,1):\n",
    "    r = i^3\n",
    "    CE_x, CV_x, CE_y, CV_y = train_test_split(x_train, y_train, test_size = 0.5, random_state = r)\n",
    "          \n",
    "    # Definimos el método de optimización con respecto a su funcion de perdida (además guardamos la exactitud para cada iteracion)\n",
    "    model_ULSTM_Opt = keras.Model(inputs, outputs)\n",
    "    model_ULSTM_Opt.compile(loss='binary_crossentropy', optimizer=adam, metrics=['accuracy'])\n",
    "    \n",
    "    # Ajustamos el modelo\n",
    "    history=model_ULSTM_Opt.fit(x=CE_x, y=CE_y, epochs=epocas, validation_data=(CV_x, CV_y), verbose=1, shuffle=False)\n",
    "      \n",
    "    # Calculamos las metricas\n",
    "    train_metrics = model_ULSTM_Opt.evaluate(x=CE_x, y=CE_y, verbose=0)\n",
    "    valid_metrics = model_ULSTM_Opt.evaluate(x=CV_x, y=CV_y, verbose=0)\n",
    "    test_metrics = model_ULSTM_Opt.evaluate(x=x_val, y=y_val, verbose=0)\n",
    "    \n",
    "    # Guardamos las métricas de desempeño\n",
    "    accu_e = train_metrics[1]\n",
    "    loss_e = train_metrics[0]\n",
    "    accu_v = valid_metrics[1]\n",
    "    loss_v = valid_metrics[0]\n",
    "    accu_p = test_metrics[1]\n",
    "    loss_p = test_metrics[0]\n",
    "    \n",
    "    if (loss_p < err_p):\n",
    "        pathr =('model_ULSTM_Opt_part='+str(r)+'.h5')\n",
    "        model_ULSTM_Opt.save(pathr) \n",
    "        err_p = loss_p\n",
    "    \n",
    "    # Imprimimos el desempeño para cada repetición\n",
    "    print('Desempeño (exactitud): accu_v1='+str(accu_v) +' , accu_v2='+str(accu_p))\n",
    "    \n",
    "    x.add_row([np.round(accu_e,4), np.round(accu_v,4), np.round(accu_p,4)])\n",
    "\n",
    "print(x)\n",
    "\n",
    "plt.figure(1)\n",
    "plt.plot(history.history['accuracy'])  \n",
    "plt.plot(history.history['val_accuracy'])  \n",
    "plt.title('Exactitud')  \n",
    "plt.ylabel('Acc')  \n",
    "plt.xlabel('Epoca')  \n",
    "plt.legend(['Entreno', 'Validacion'], loc='lower right')\n",
    "plt.show()\n",
    "\n",
    "plt.figure(1) \n",
    "plt.plot(history.history['loss'])  \n",
    "plt.plot(history.history['val_loss'])  \n",
    "plt.title('Pérdida')  \n",
    "plt.ylabel('Pérdida')  \n",
    "plt.xlabel('Epoca')  \n",
    "plt.legend(['Entreno', 'Validación'], loc='upper right')  \n",
    "plt.show()\n",
    "\n",
    "Y_predt = model_ULSTM_Opt.predict(x_train)\n",
    "Y_predst = (Y_predt > 0.5)\n",
    "\n",
    "print(confusion_matrix(y_train, Y_predst))\n",
    "print(\"\\nExactitud: \", model_ULSTM_Opt.evaluate(x=x_train, y=y_train, verbose=0)[1])\n",
    "\n",
    "Y_predv = model_ULSTM_Opt.predict(x_val)\n",
    "Y_predsv = (Y_predv > 0.5)\n",
    "\n",
    "print(confusion_matrix(y_val, Y_predsv))\n",
    "print(\"Exactitud: \", model_ULSTM_Opt.evaluate(x=x_val, y=y_val, verbose=0)[1])"
   ]
  },
  {
   "cell_type": "markdown",
   "metadata": {},
   "source": [
    "**Podemos observar que al incrementar las epocas en un un modelo Unidireccional con celdas LSTM no mejora el desempeño, cayó de 85% a 84%**"
   ]
  },
  {
   "cell_type": "markdown",
   "metadata": {},
   "source": [
    "## 1.2.3 Red Unidireccional GRU"
   ]
  },
  {
   "cell_type": "code",
   "execution_count": 42,
   "metadata": {},
   "outputs": [
    {
     "name": "stdout",
     "output_type": "stream",
     "text": [
      "Model: \"functional_49\"\n",
      "_________________________________________________________________\n",
      "Layer (type)                 Output Shape              Param #   \n",
      "=================================================================\n",
      "input_7 (InputLayer)         [(None, None)]            0         \n",
      "_________________________________________________________________\n",
      "embedding_6 (Embedding)      (None, None, 128)         2560000   \n",
      "_________________________________________________________________\n",
      "gru_2 (GRU)                  (None, None, 64)          37248     \n",
      "_________________________________________________________________\n",
      "gru_3 (GRU)                  (None, 64)                24960     \n",
      "_________________________________________________________________\n",
      "dense_6 (Dense)              (None, 1)                 65        \n",
      "=================================================================\n",
      "Total params: 2,622,273\n",
      "Trainable params: 2,622,273\n",
      "Non-trainable params: 0\n",
      "_________________________________________________________________\n"
     ]
    }
   ],
   "source": [
    "# Input con secuencias de enteros con longitud variable\n",
    "inputs = keras.Input(shape=(None,), dtype=\"int32\")\n",
    "\n",
    "# Conseguimos la representación vectorial (embedding) de cada entero en un vector 128-dimensional\n",
    "x = layers.Embedding(max_features, 128)(inputs)\n",
    "\n",
    "# Añadimos 2 unidades GRU unidireccionales\n",
    "x = layers.GRU(64, return_sequences=True)(x)\n",
    "x = layers.GRU(64)(x)\n",
    "\n",
    "# Añadimos un clasificador binario en la salida\n",
    "outputs = layers.Dense(1, activation=\"sigmoid\")(x)\n",
    "\n",
    "# Gaurdamos la arquitectura del modelo\n",
    "model_GRU_uni_Opt = keras.Model(inputs, outputs)\n",
    "model_GRU_uni_Opt.summary()"
   ]
  },
  {
   "cell_type": "code",
   "execution_count": 43,
   "metadata": {},
   "outputs": [
    {
     "name": "stdout",
     "output_type": "stream",
     "text": [
      "Epoch 1/20\n",
      "391/391 [==============================] - 80s 204ms/step - loss: 0.4705 - accuracy: 0.7599 - val_loss: 0.3485 - val_accuracy: 0.8542\n",
      "Epoch 2/20\n",
      "391/391 [==============================] - 82s 209ms/step - loss: 0.2201 - accuracy: 0.9173 - val_loss: 0.3416 - val_accuracy: 0.8626\n",
      "Epoch 3/20\n",
      "391/391 [==============================] - 80s 206ms/step - loss: 0.1304 - accuracy: 0.9548 - val_loss: 0.4999 - val_accuracy: 0.8284\n",
      "Epoch 4/20\n",
      "391/391 [==============================] - 81s 207ms/step - loss: 0.1029 - accuracy: 0.9630 - val_loss: 0.5023 - val_accuracy: 0.7994\n",
      "Epoch 5/20\n",
      "391/391 [==============================] - 79s 203ms/step - loss: 0.0682 - accuracy: 0.9752 - val_loss: 0.5669 - val_accuracy: 0.8343\n",
      "Epoch 6/20\n",
      "391/391 [==============================] - 79s 203ms/step - loss: 0.0259 - accuracy: 0.9915 - val_loss: 0.9308 - val_accuracy: 0.8194\n",
      "Epoch 7/20\n",
      "391/391 [==============================] - 78s 199ms/step - loss: 0.0195 - accuracy: 0.9938 - val_loss: 0.7412 - val_accuracy: 0.8503\n",
      "Epoch 8/20\n",
      "391/391 [==============================] - 81s 206ms/step - loss: 0.0151 - accuracy: 0.9954 - val_loss: 0.7734 - val_accuracy: 0.8500\n",
      "Epoch 9/20\n",
      "391/391 [==============================] - 83s 213ms/step - loss: 0.0130 - accuracy: 0.9959 - val_loss: 0.8780 - val_accuracy: 0.8568\n",
      "Epoch 10/20\n",
      "391/391 [==============================] - 83s 213ms/step - loss: 0.0122 - accuracy: 0.9959 - val_loss: 0.8560 - val_accuracy: 0.8530\n",
      "Epoch 11/20\n",
      "391/391 [==============================] - 78s 200ms/step - loss: 0.0120 - accuracy: 0.9959 - val_loss: 0.8304 - val_accuracy: 0.8456\n",
      "Epoch 12/20\n",
      "391/391 [==============================] - 79s 203ms/step - loss: 0.0108 - accuracy: 0.9966 - val_loss: 0.8829 - val_accuracy: 0.8607\n",
      "Epoch 13/20\n",
      "391/391 [==============================] - 87s 223ms/step - loss: 0.0119 - accuracy: 0.9958 - val_loss: 0.8590 - val_accuracy: 0.8523\n",
      "Epoch 14/20\n",
      "391/391 [==============================] - 84s 216ms/step - loss: 0.0089 - accuracy: 0.9973 - val_loss: 0.8499 - val_accuracy: 0.8487\n",
      "Epoch 15/20\n",
      "391/391 [==============================] - 87s 224ms/step - loss: 0.0096 - accuracy: 0.9971 - val_loss: 0.8462 - val_accuracy: 0.8560\n",
      "Epoch 16/20\n",
      "391/391 [==============================] - 86s 220ms/step - loss: 0.0015 - accuracy: 0.9996 - val_loss: 1.0265 - val_accuracy: 0.8586\n",
      "Epoch 17/20\n",
      "391/391 [==============================] - 81s 206ms/step - loss: 1.5936e-04 - accuracy: 1.0000 - val_loss: 1.0236 - val_accuracy: 0.8535\n",
      "Epoch 18/20\n",
      "391/391 [==============================] - 83s 212ms/step - loss: 3.2421e-05 - accuracy: 1.0000 - val_loss: 1.0723 - val_accuracy: 0.8565\n",
      "Epoch 19/20\n",
      "391/391 [==============================] - 89s 227ms/step - loss: 1.3533e-05 - accuracy: 1.0000 - val_loss: 1.1013 - val_accuracy: 0.8578\n",
      "Epoch 20/20\n",
      "391/391 [==============================] - 82s 209ms/step - loss: 9.8960e-06 - accuracy: 1.0000 - val_loss: 1.1263 - val_accuracy: 0.8579\n",
      "Desempeño (exactitud): accu_v1=0.8579199910163879 , accu_v2=0.8431199789047241\n",
      "Epoch 1/20\n",
      "391/391 [==============================] - 81s 207ms/step - loss: 0.2114 - accuracy: 0.9247 - val_loss: 0.1841 - val_accuracy: 0.9302\n",
      "Epoch 2/20\n",
      "391/391 [==============================] - 86s 219ms/step - loss: 0.0441 - accuracy: 0.9878 - val_loss: 0.2429 - val_accuracy: 0.9263\n",
      "Epoch 3/20\n",
      "391/391 [==============================] - 81s 207ms/step - loss: 0.0090 - accuracy: 0.9980 - val_loss: 0.3241 - val_accuracy: 0.9248\n",
      "Epoch 4/20\n",
      "391/391 [==============================] - 81s 207ms/step - loss: 0.0034 - accuracy: 0.9995 - val_loss: 0.3771 - val_accuracy: 0.9242\n",
      "Epoch 5/20\n",
      "391/391 [==============================] - 82s 211ms/step - loss: 0.0013 - accuracy: 0.9998 - val_loss: 0.4051 - val_accuracy: 0.9246\n",
      "Epoch 6/20\n",
      "391/391 [==============================] - 85s 216ms/step - loss: 9.5379e-04 - accuracy: 0.9999 - val_loss: 0.4342 - val_accuracy: 0.9243\n",
      "Epoch 7/20\n",
      "391/391 [==============================] - 80s 205ms/step - loss: 8.5285e-04 - accuracy: 0.9999 - val_loss: 0.4476 - val_accuracy: 0.9234\n",
      "Epoch 8/20\n",
      "391/391 [==============================] - 80s 205ms/step - loss: 7.0596e-05 - accuracy: 1.0000 - val_loss: 0.4825 - val_accuracy: 0.9233\n",
      "Epoch 9/20\n",
      "391/391 [==============================] - 82s 209ms/step - loss: 4.3410e-05 - accuracy: 1.0000 - val_loss: 0.5100 - val_accuracy: 0.9231\n",
      "Epoch 10/20\n",
      "391/391 [==============================] - 81s 207ms/step - loss: 2.9712e-05 - accuracy: 1.0000 - val_loss: 0.5335 - val_accuracy: 0.9224\n",
      "Epoch 11/20\n",
      "391/391 [==============================] - 80s 206ms/step - loss: 2.1427e-05 - accuracy: 1.0000 - val_loss: 0.5546 - val_accuracy: 0.9225\n",
      "Epoch 12/20\n",
      "391/391 [==============================] - 84s 215ms/step - loss: 1.6041e-05 - accuracy: 1.0000 - val_loss: 0.5739 - val_accuracy: 0.9224\n",
      "Epoch 13/20\n",
      "391/391 [==============================] - 80s 205ms/step - loss: 1.2322e-05 - accuracy: 1.0000 - val_loss: 0.5921 - val_accuracy: 0.9218\n",
      "Epoch 14/20\n",
      "391/391 [==============================] - 80s 205ms/step - loss: 9.6333e-06 - accuracy: 1.0000 - val_loss: 0.6096 - val_accuracy: 0.9219\n",
      "Epoch 15/20\n",
      "391/391 [==============================] - 83s 213ms/step - loss: 7.6244e-06 - accuracy: 1.0000 - val_loss: 0.6265 - val_accuracy: 0.9222\n",
      "Epoch 16/20\n",
      "391/391 [==============================] - 81s 206ms/step - loss: 6.0888e-06 - accuracy: 1.0000 - val_loss: 0.6431 - val_accuracy: 0.9219\n",
      "Epoch 17/20\n",
      "391/391 [==============================] - 82s 209ms/step - loss: 4.8952e-06 - accuracy: 1.0000 - val_loss: 0.6594 - val_accuracy: 0.9218\n",
      "Epoch 18/20\n",
      "391/391 [==============================] - 81s 208ms/step - loss: 3.9562e-06 - accuracy: 1.0000 - val_loss: 0.6756 - val_accuracy: 0.9216\n",
      "Epoch 19/20\n",
      "391/391 [==============================] - 81s 207ms/step - loss: 3.2107e-06 - accuracy: 1.0000 - val_loss: 0.6916 - val_accuracy: 0.9212\n",
      "Epoch 20/20\n",
      "391/391 [==============================] - 81s 207ms/step - loss: 2.6145e-06 - accuracy: 1.0000 - val_loss: 0.7076 - val_accuracy: 0.9213\n",
      "Desempeño (exactitud): accu_v1=0.921280026435852 , accu_v2=0.8561599850654602\n",
      "Epoch 1/20\n",
      "391/391 [==============================] - 83s 211ms/step - loss: 0.1452 - accuracy: 0.9526 - val_loss: 0.1327 - val_accuracy: 0.9527\n",
      "Epoch 2/20\n",
      "391/391 [==============================] - 91s 233ms/step - loss: 0.0185 - accuracy: 0.9955 - val_loss: 0.1702 - val_accuracy: 0.9484\n",
      "Epoch 3/20\n",
      "391/391 [==============================] - 82s 211ms/step - loss: 0.0032 - accuracy: 0.9997 - val_loss: 0.2148 - val_accuracy: 0.9498\n",
      "Epoch 4/20\n",
      "391/391 [==============================] - 85s 218ms/step - loss: 0.0014 - accuracy: 0.9998 - val_loss: 0.2285 - val_accuracy: 0.9495\n",
      "Epoch 5/20\n",
      "391/391 [==============================] - 83s 211ms/step - loss: 8.3857e-04 - accuracy: 0.9999 - val_loss: 0.2475 - val_accuracy: 0.9493\n",
      "Epoch 6/20\n",
      "391/391 [==============================] - 82s 209ms/step - loss: 6.8832e-04 - accuracy: 0.9999 - val_loss: 0.2622 - val_accuracy: 0.9483\n",
      "Epoch 7/20\n",
      "391/391 [==============================] - 83s 211ms/step - loss: 3.7505e-04 - accuracy: 0.9999 - val_loss: 0.2846 - val_accuracy: 0.9468\n",
      "Epoch 8/20\n",
      "391/391 [==============================] - 84s 215ms/step - loss: 5.8629e-05 - accuracy: 1.0000 - val_loss: 0.3131 - val_accuracy: 0.9464\n",
      "Epoch 9/20\n",
      "391/391 [==============================] - 81s 207ms/step - loss: 3.1728e-05 - accuracy: 1.0000 - val_loss: 0.3331 - val_accuracy: 0.9463\n",
      "Epoch 10/20\n",
      "391/391 [==============================] - 82s 210ms/step - loss: 2.1512e-05 - accuracy: 1.0000 - val_loss: 0.3489 - val_accuracy: 0.9463\n",
      "Epoch 11/20\n",
      "391/391 [==============================] - 84s 214ms/step - loss: 1.5651e-05 - accuracy: 1.0000 - val_loss: 0.3628 - val_accuracy: 0.9460\n",
      "Epoch 12/20\n",
      "391/391 [==============================] - 82s 210ms/step - loss: 1.1823e-05 - accuracy: 1.0000 - val_loss: 0.3757 - val_accuracy: 0.9456\n",
      "Epoch 13/20\n",
      "391/391 [==============================] - 86s 220ms/step - loss: 9.1445e-06 - accuracy: 1.0000 - val_loss: 0.3879 - val_accuracy: 0.9457\n",
      "Epoch 14/20\n",
      "391/391 [==============================] - 82s 209ms/step - loss: 7.1867e-06 - accuracy: 1.0000 - val_loss: 0.3996 - val_accuracy: 0.9456\n",
      "Epoch 15/20\n",
      "391/391 [==============================] - 88s 224ms/step - loss: 5.7128e-06 - accuracy: 1.0000 - val_loss: 0.4111 - val_accuracy: 0.9452\n",
      "Epoch 16/20\n",
      "391/391 [==============================] - 83s 212ms/step - loss: 4.5797e-06 - accuracy: 1.0000 - val_loss: 0.4225 - val_accuracy: 0.9454\n",
      "Epoch 17/20\n",
      "391/391 [==============================] - 82s 209ms/step - loss: 3.6948e-06 - accuracy: 1.0000 - val_loss: 0.4338 - val_accuracy: 0.9452\n",
      "Epoch 18/20\n",
      "391/391 [==============================] - 86s 220ms/step - loss: 2.9955e-06 - accuracy: 1.0000 - val_loss: 0.4450 - val_accuracy: 0.9447\n",
      "Epoch 19/20\n",
      "391/391 [==============================] - 84s 216ms/step - loss: 2.4380e-06 - accuracy: 1.0000 - val_loss: 0.4563 - val_accuracy: 0.9446\n",
      "Epoch 20/20\n",
      "391/391 [==============================] - 85s 219ms/step - loss: 1.9904e-06 - accuracy: 1.0000 - val_loss: 0.4676 - val_accuracy: 0.9444\n",
      "Desempeño (exactitud): accu_v1=0.9444000124931335 , accu_v2=0.8576800227165222\n",
      "+--------+--------+--------+\n",
      "| Exac_E | Exac_V | Exac_P |\n",
      "+--------+--------+--------+\n",
      "|  1.0   | 0.8579 | 0.8431 |\n",
      "|  1.0   | 0.9213 | 0.8562 |\n",
      "|  1.0   | 0.9444 | 0.8577 |\n",
      "+--------+--------+--------+\n"
     ]
    }
   ],
   "source": [
    "# Inicializamos la tabla donde guardamos los resultados\n",
    "x = PrettyTable([\"Exac_E\", \"Exac_V\", \"Exac_P\"])\n",
    "\n",
    "# Definimos el número máximo de iteraciones (épocas de la red)\n",
    "epocas=20\n",
    "\n",
    "# Definimos los parametros del Adam\n",
    "adam = keras.optimizers.Adam(lr=0.001, beta_1=0.9, beta_2=0.999)\n",
    "\n",
    "# Inicializamos el error \n",
    "err_p = 999\n",
    "\n",
    "for i in range(0,3,1):\n",
    "    r = i^3\n",
    "    CE_x, CV_x, CE_y, CV_y = train_test_split(x_train, y_train, test_size = 0.5, random_state = r)\n",
    "          \n",
    "    # Definimos el método de optimización con respecto a su funcion de perdida (además guardamos la exactitud para cada iteracion)\n",
    "    model_GRU_uni_Opt = keras.Model(inputs, outputs)\n",
    "    model_GRU_uni_Opt.compile(loss='binary_crossentropy', optimizer=adam, metrics=['accuracy'])\n",
    "    \n",
    "    # Ajustamos el modelo\n",
    "    history=model_GRU_uni_Opt.fit(x=CE_x, y=CE_y, epochs=epocas, validation_data=(CV_x, CV_y), verbose=1, shuffle=False)\n",
    "      \n",
    "    # Calculamos las metricas\n",
    "    train_metrics = model_GRU_uni_Opt.evaluate(x=CE_x, y=CE_y, verbose=0)\n",
    "    valid_metrics = model_GRU_uni_Opt.evaluate(x=CV_x, y=CV_y, verbose=0)\n",
    "    test_metrics = model_GRU_uni_Opt.evaluate(x=x_val, y=y_val, verbose=0)\n",
    "    \n",
    "    # Guardamos las métricas de desempeño\n",
    "    accu_e = train_metrics[1]\n",
    "    loss_e = train_metrics[0]\n",
    "    accu_v = valid_metrics[1]\n",
    "    loss_v = valid_metrics[0]\n",
    "    accu_p = test_metrics[1]\n",
    "    loss_p = test_metrics[0]\n",
    "    \n",
    "    if (loss_p < err_p):\n",
    "        pathr =('U_GRU_Opti_part='+str(r)+'.h5')\n",
    "        model_GRU_uni_Opt.save(pathr) \n",
    "        err_p = loss_p\n",
    "    \n",
    "    # Imprimimos el desempeño para cada repetición\n",
    "    print('Desempeño (exactitud): accu_v1='+str(accu_v) +' , accu_v2='+str(accu_p))\n",
    "    \n",
    "    x.add_row([np.round(accu_e,4), np.round(accu_v,4), np.round(accu_p,4)])\n",
    "\n",
    "print(x)"
   ]
  },
  {
   "cell_type": "code",
   "execution_count": 44,
   "metadata": {},
   "outputs": [
    {
     "data": {
      "image/png": "[encoded data removed]",
      "text/plain": [
       "<Figure size 432x288 with 1 Axes>"
      ]
     },
     "metadata": {
      "needs_background": "light"
     },
     "output_type": "display_data"
    },
    {
     "data": {
      "image/png": "[encoded data removed]",
      "text/plain": [
       "<Figure size 432x288 with 1 Axes>"
      ]
     },
     "metadata": {
      "needs_background": "light"
     },
     "output_type": "display_data"
    }
   ],
   "source": [
    "plt.figure(1)\n",
    "plt.plot(history.history['accuracy'])  \n",
    "plt.plot(history.history['val_accuracy'])  \n",
    "plt.title('Exactitud')  \n",
    "plt.ylabel('Acc')  \n",
    "plt.xlabel('Epoca')  \n",
    "plt.legend(['Entreno', 'Validacion'], loc='lower right')\n",
    "plt.show()\n",
    "\n",
    "plt.figure(1) \n",
    "plt.plot(history.history['loss'])  \n",
    "plt.plot(history.history['val_loss'])  \n",
    "plt.title('Pérdida')  \n",
    "plt.ylabel('Pérdida')  \n",
    "plt.xlabel('Epoca')  \n",
    "plt.legend(['Entreno', 'Validación'], loc='upper right')  \n",
    "plt.show()"
   ]
  },
  {
   "cell_type": "code",
   "execution_count": 45,
   "metadata": {},
   "outputs": [
    {
     "name": "stdout",
     "output_type": "stream",
     "text": [
      "[[12101   399]\n",
      " [  296 12204]]\n",
      "\n",
      "Exactitud:  0.9721999764442444\n",
      "[[10672  1828]\n",
      " [ 1730 10770]]\n",
      "Exactitud:  0.8576800227165222\n"
     ]
    }
   ],
   "source": [
    "Y_predt = model_GRU_uni_Opt.predict(x_train)\n",
    "Y_predst = (Y_predt > 0.5)\n",
    "\n",
    "print(confusion_matrix(y_train, Y_predst))\n",
    "print(\"\\nExactitud: \", model_GRU_uni_Opt.evaluate(x=x_train, y=y_train, verbose=0)[1])\n",
    "\n",
    "Y_predv = model_GRU_uni_Opt.predict(x_val)\n",
    "Y_predsv = (Y_predv > 0.5)\n",
    "\n",
    "print(confusion_matrix(y_val, Y_predsv))\n",
    "print(\"Exactitud: \", model_GRU_uni_Opt.evaluate(x=x_val, y=y_val, verbose=0)[1])"
   ]
  },
  {
   "cell_type": "markdown",
   "metadata": {},
   "source": [
    "Al aumentar a 20 Epocas, no se logra mejorar la exactidud (86%) y el aumento en el tiempo computacional es significativo comparado con la mejora que se puede lograr. Este parece no ser el camino si se quiere mejorar significativamente los resultados. "
   ]
  },
  {
   "cell_type": "markdown",
   "metadata": {},
   "source": [
    "## 1.2.4 Red Bidireccional GRU"
   ]
  },
  {
   "cell_type": "code",
   "execution_count": 46,
   "metadata": {},
   "outputs": [
    {
     "name": "stdout",
     "output_type": "stream",
     "text": [
      "Model: \"functional_57\"\n",
      "_________________________________________________________________\n",
      "Layer (type)                 Output Shape              Param #   \n",
      "=================================================================\n",
      "input_8 (InputLayer)         [(None, None)]            0         \n",
      "_________________________________________________________________\n",
      "embedding_7 (Embedding)      (None, None, 128)         2560000   \n",
      "_________________________________________________________________\n",
      "bidirectional_4 (Bidirection (None, None, 128)         74496     \n",
      "_________________________________________________________________\n",
      "bidirectional_5 (Bidirection (None, 128)               74496     \n",
      "_________________________________________________________________\n",
      "dense_7 (Dense)              (None, 1)                 129       \n",
      "=================================================================\n",
      "Total params: 2,709,121\n",
      "Trainable params: 2,709,121\n",
      "Non-trainable params: 0\n",
      "_________________________________________________________________\n"
     ]
    }
   ],
   "source": [
    "# Input con secuencias de enteros con longitud variable\n",
    "inputs = keras.Input(shape=(None,), dtype=\"int32\")\n",
    "\n",
    "# Conseguimos la representación vectorial (embedding) de cada entero en un vector 128-dimensional\n",
    "x = layers.Embedding(max_features, 128)(inputs)\n",
    "\n",
    "# Añadimos 2 unidades LSTM bidireccionales\n",
    "x = layers.Bidirectional(layers.GRU(64, return_sequences=True))(x)\n",
    "x = layers.Bidirectional(layers.GRU(64))(x)\n",
    "\n",
    "# Añadimos un clasificador binario en la salida\n",
    "outputs = layers.Dense(1, activation=\"sigmoid\")(x)\n",
    "\n",
    "# Gaurdamos la arquitectura del modelo\n",
    "model_GRU_BID = keras.Model(inputs, outputs)\n",
    "model_GRU_BID.summary()"
   ]
  },
  {
   "cell_type": "code",
   "execution_count": 47,
   "metadata": {},
   "outputs": [
    {
     "name": "stdout",
     "output_type": "stream",
     "text": [
      "Epoch 1/3\n",
      "391/391 [==============================] - 118s 303ms/step - loss: 0.4978 - accuracy: 0.7485 - val_loss: 0.3657 - val_accuracy: 0.8450\n",
      "Epoch 2/3\n",
      "391/391 [==============================] - 110s 283ms/step - loss: 0.2326 - accuracy: 0.9096 - val_loss: 0.4131 - val_accuracy: 0.8570\n",
      "Epoch 3/3\n",
      "391/391 [==============================] - 113s 289ms/step - loss: 0.1187 - accuracy: 0.9573 - val_loss: 0.5335 - val_accuracy: 0.8466\n",
      "Desempeño (exactitud): accu_v1=0.846560001373291 , accu_v2=0.8319600224494934\n",
      "Epoch 1/3\n",
      "391/391 [==============================] - 111s 283ms/step - loss: 0.2161 - accuracy: 0.9185 - val_loss: 0.2003 - val_accuracy: 0.9249\n",
      "Epoch 2/3\n",
      "391/391 [==============================] - 105s 269ms/step - loss: 0.0702 - accuracy: 0.9785 - val_loss: 0.2687 - val_accuracy: 0.9150\n",
      "Epoch 3/3\n",
      "391/391 [==============================] - 115s 294ms/step - loss: 0.0297 - accuracy: 0.9914 - val_loss: 0.6094 - val_accuracy: 0.8523\n",
      "Desempeño (exactitud): accu_v1=0.8523200154304504 , accu_v2=0.804639995098114\n",
      "Epoch 1/3\n",
      "391/391 [==============================] - 111s 283ms/step - loss: 0.1447 - accuracy: 0.9506 - val_loss: 0.1287 - val_accuracy: 0.9566\n",
      "Epoch 2/3\n",
      "391/391 [==============================] - 110s 281ms/step - loss: 0.0353 - accuracy: 0.9894 - val_loss: 0.1748 - val_accuracy: 0.9471\n",
      "Epoch 3/3\n",
      "391/391 [==============================] - 110s 282ms/step - loss: 0.0113 - accuracy: 0.9966 - val_loss: 0.2434 - val_accuracy: 0.9456\n",
      "Desempeño (exactitud): accu_v1=0.9455999732017517 , accu_v2=0.8551599979400635\n",
      "+--------+--------+--------+\n",
      "| Exac_E | Exac_V | Exac_P |\n",
      "+--------+--------+--------+\n",
      "| 0.9695 | 0.8466 | 0.832  |\n",
      "| 0.9454 | 0.8523 | 0.8046 |\n",
      "| 0.9988 | 0.9456 | 0.8552 |\n",
      "+--------+--------+--------+\n"
     ]
    },
    {
     "data": {
      "image/png": "[encoded data removed]",
      "text/plain": [
       "<Figure size 432x288 with 1 Axes>"
      ]
     },
     "metadata": {
      "needs_background": "light"
     },
     "output_type": "display_data"
    },
    {
     "data": {
      "image/png": "[encoded data removed]",
      "text/plain": [
       "<Figure size 432x288 with 1 Axes>"
      ]
     },
     "metadata": {
      "needs_background": "light"
     },
     "output_type": "display_data"
    },
    {
     "name": "stdout",
     "output_type": "stream",
     "text": [
      "[[12277   223]\n",
      " [  472 12028]]\n",
      "\n",
      "Exactitud:  0.9721999764442444\n",
      "[[10672  1828]\n",
      " [ 1730 10770]]\n",
      "Exactitud:  0.8551599979400635\n"
     ]
    }
   ],
   "source": [
    "# Inicializamos la tabla donde guardamos los resultados\n",
    "x = PrettyTable([\"Exac_E\", \"Exac_V\", \"Exac_P\"])\n",
    "\n",
    "# Definimos el número máximo de iteraciones (épocas de la red)\n",
    "epocas=3\n",
    "\n",
    "# Definimos los parametros del Adam\n",
    "adam = keras.optimizers.Adam(lr=0.001, beta_1=0.9, beta_2=0.999)\n",
    "\n",
    "# Inicializamos el error \n",
    "err_p = 999\n",
    "\n",
    "for i in range(0,3,1):\n",
    "    r = i^3\n",
    "    CE_x, CV_x, CE_y, CV_y = train_test_split(x_train, y_train, test_size = 0.5, random_state = r)\n",
    "          \n",
    "    # Definimos el método de optimización con respecto a su funcion de perdida (además guardamos la exactitud para cada iteracion)\n",
    "    model_GRU_BID = keras.Model(inputs, outputs)\n",
    "    model_GRU_BID.compile(loss='binary_crossentropy', optimizer=adam, metrics=['accuracy'])\n",
    "    \n",
    "    # Ajustamos el modelo\n",
    "    history=model_GRU_BID.fit(x=CE_x, y=CE_y, epochs=epocas, validation_data=(CV_x, CV_y), verbose=1, shuffle=False)\n",
    "      \n",
    "    # Calculamos las metricas\n",
    "    train_metrics = model_GRU_BID.evaluate(x=CE_x, y=CE_y, verbose=0)\n",
    "    valid_metrics = model_GRU_BID.evaluate(x=CV_x, y=CV_y, verbose=0)\n",
    "    test_metrics = model_GRU_BID.evaluate(x=x_val, y=y_val, verbose=0)\n",
    "    \n",
    "    # Guardamos las métricas de desempeño\n",
    "    accu_e = train_metrics[1]\n",
    "    loss_e = train_metrics[0]\n",
    "    accu_v = valid_metrics[1]\n",
    "    loss_v = valid_metrics[0]\n",
    "    accu_p = test_metrics[1]\n",
    "    loss_p = test_metrics[0]\n",
    "    \n",
    "    if (loss_p < err_p):\n",
    "        pathr =('B_GRU_Opt_part='+str(r)+'.h5')\n",
    "        model_GRU_BID.save(pathr) \n",
    "        err_p = loss_p\n",
    "    \n",
    "    # Imprimimos el desempeño para cada repetición\n",
    "    print('Desempeño (exactitud): accu_v1='+str(accu_v) +' , accu_v2='+str(accu_p))\n",
    "    \n",
    "    x.add_row([np.round(accu_e,4), np.round(accu_v,4), np.round(accu_p,4)])\n",
    "\n",
    "print(x)\n",
    "\n",
    "plt.figure(1)\n",
    "plt.plot(history.history['accuracy'])  \n",
    "plt.plot(history.history['val_accuracy'])  \n",
    "plt.title('Exactitud')  \n",
    "plt.ylabel('Acc')  \n",
    "plt.xlabel('Epoca')  \n",
    "plt.legend(['Entreno', 'Validacion'], loc='lower right')\n",
    "plt.show()\n",
    "\n",
    "plt.figure(1) \n",
    "plt.plot(history.history['loss'])  \n",
    "plt.plot(history.history['val_loss'])  \n",
    "plt.title('Pérdida')  \n",
    "plt.ylabel('Pérdida')  \n",
    "plt.xlabel('Epoca')  \n",
    "plt.legend(['Entreno', 'Validación'], loc='upper right')  \n",
    "plt.show()\n",
    "\n",
    "Y_predt = model_GRU_BID.predict(x_train)\n",
    "Y_predst = (Y_predt > 0.5)\n",
    "\n",
    "print(confusion_matrix(y_train, Y_predst))\n",
    "print(\"\\nExactitud: \", model_GRU_BID.evaluate(x=x_train, y=y_train, verbose=0)[1])\n",
    "\n",
    "Y_predv = model_GRU_uni_Opt.predict(x_val)\n",
    "Y_predsv = (Y_predv > 0.5)\n",
    "\n",
    "print(confusion_matrix(y_val, Y_predsv))\n",
    "print(\"Exactitud: \", model_GRU_BID.evaluate(x=x_val, y=y_val, verbose=0)[1])"
   ]
  },
  {
   "cell_type": "markdown",
   "metadata": {},
   "source": [
    "**Podemos observar que un modelo mas sencillo (una red unidireccional GRU) presentó mejores resultados que sus competidores mas complejos (LSTM bidireccional) aun con un menor numero de epocas para la obtencion de sus parametros.**\n",
    "\n",
    "**Podemos evidenciar que en todas las comparaciones, los modelos unidireccionales tuvieron un mejor rendimiento que los bidireccionales.**\n",
    "\n",
    "**El camino a seguir sería optimizar sus parametros de aprendizaje, arquitectura, tasas de drop out entre sus capas y funciones de activacion.**"
   ]
  }
 ],
 "metadata": {
  "coursera": {
   "course_slug": "neural-networks-deep-learning",
   "graded_item_id": "wRuwL",
   "launcher_item_id": "NI888"
  },
  "kernelspec": {
   "display_name": "Python 3",
   "language": "python",
   "name": "python3"
  },
  "language_info": {
   "codemirror_mode": {
    "name": "ipython",
    "version": 3
   },
   "file_extension": ".py",
   "mimetype": "text/x-python",
   "name": "python",
   "nbconvert_exporter": "python",
   "pygments_lexer": "ipython3",
   "version": "3.8.3"
  }
 },
 "nbformat": 4,
 "nbformat_minor": 4
}
